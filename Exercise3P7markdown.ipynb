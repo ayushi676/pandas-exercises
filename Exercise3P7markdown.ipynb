{
 "cells": [
  {
   "cell_type": "markdown",
   "metadata": {},
   "source": [
    "## Python script for P7"
   ]
  },
  {
   "cell_type": "markdown",
   "metadata": {},
   "source": [
    "## Execution and Output\n",
    "\n",
    "Here, I executed the Python script Exercise3P7.py with the city \"Delhi\" as the command-line argument."
   ]
  },
  {
   "cell_type": "code",
   "execution_count": 1,
   "metadata": {},
   "outputs": [
    {
     "name": "stdout",
     "output_type": "stream",
     "text": [
      "The best type of Room based on its Reviews: Entire Home/Apartment (Reviews: 7.0)\n",
      "The cheapest Room in the city: Shared Room at Pitampura (PPN: 800)\n",
      "The costliest Room in the city: Entire Home/Apartment at Dilshad Garden (PPN: 6200)\n",
      "The average PPN for Delhi: 2414.29\n"
     ]
    }
   ],
   "source": [
    "! python Exercise3P7.py Delhi "
   ]
  },
  {
   "cell_type": "markdown",
   "metadata": {},
   "source": [
    "The output shows the best, cheapest, and costliest room types, as well as the average PPN for the specified city.\n"
   ]
  }
 ],
 "metadata": {
  "kernelspec": {
   "display_name": "Python 3",
   "language": "python",
   "name": "python3"
  },
  "language_info": {
   "codemirror_mode": {
    "name": "ipython",
    "version": 3
   },
   "file_extension": ".py",
   "mimetype": "text/x-python",
   "name": "python",
   "nbconvert_exporter": "python",
   "pygments_lexer": "ipython3",
   "version": "3.10.12"
  }
 },
 "nbformat": 4,
 "nbformat_minor": 2
}
