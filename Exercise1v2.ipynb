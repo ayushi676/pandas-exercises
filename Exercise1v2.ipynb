{
 "cells": [
  {
   "cell_type": "markdown",
   "metadata": {},
   "source": [
    "## 1st Part"
   ]
  },
  {
   "cell_type": "markdown",
   "metadata": {},
   "source": [
    "\n",
    "\n",
    "Write a Python script to fix anomalies in \"sales_24.csv\" file\n",
    "- Open the downloaded \"sales_24.csv\" file using csv module.\n",
    "- All values in Amount column should be rounded down to the nearest integer\n",
    "\t- You can use the appropriate function in “math” module for this\n",
    "- Ignore any missing values ( and leave them as it is )\n",
    "- Create a new file called \"sales_updated.csv\" with the modified Amount column\n",
    "- All the other columns should contain the same data as in the original file\n"
   ]
  },
  {
   "cell_type": "code",
   "execution_count": 1,
   "metadata": {},
   "outputs": [],
   "source": [
    "import csv\n",
    "import math"
   ]
  },
  {
   "cell_type": "markdown",
   "metadata": {},
   "source": [
    "# Open the original CSV file for reading\n"
   ]
  },
  {
   "cell_type": "code",
   "execution_count": 5,
   "metadata": {},
   "outputs": [],
   "source": [
    "\n",
    "with open('data/sales_24.csv', mode='r', newline='') as infile:\n",
    "    reader = csv.DictReader(infile)\n",
    "    # store headers\n",
    "    fieldnames = reader.fieldnames\n",
    "   "
   ]
  },
  {
   "cell_type": "markdown",
   "metadata": {},
   "source": [
    "# Open a new CSV file to write the updated data"
   ]
  },
  {
   "cell_type": "code",
   "execution_count": null,
   "metadata": {},
   "outputs": [],
   "source": [
    " with open('sales_updated.csv', mode='w', newline='') as outfile:\n",
    "        writer = csv.DictWriter(outfile, fieldnames=fieldnames)\n",
    "        writer.writeheader()\n",
    "        # handling amount column\n",
    "        for row in reader:\n",
    "            if row['Amount']:\n",
    "                try:\n",
    "                    row['Amount'] = math.floor(float(row['Amount']))\n",
    "                except ValueError:\n",
    "                    continue  \n",
    "            writer.writerow(row)"
   ]
  },
  {
   "cell_type": "markdown",
   "metadata": {},
   "source": [
    "-- see final output if Nan in amount is intact"
   ]
  },
  {
   "cell_type": "code",
   "execution_count": 6,
   "metadata": {},
   "outputs": [
    {
     "name": "stdout",
     "output_type": "stream",
     "text": [
      "{'Date': '2024-01-07', 'Region': 'North', 'Product': 'D1-Shirt', 'Amount': '1000', 'Customer ID': 'C001'}\n",
      "{'Date': '15/01/2024', 'Region': 'EAst', 'Product': 'G2-Blazers', 'Amount': '1200', 'Customer ID': 'C004'}\n",
      "{'Date': '24/2/20', 'Region': 'SOUTH', 'Product': 'K3-Trousers', 'Amount': '1500', 'Customer ID': 'C003'}\n",
      "{'Date': '2024-02-13', 'Region': 'West ', 'Product': 'D1Shirt', 'Amount': '2000', 'Customer ID': 'C002'}\n",
      "{'Date': '2024-03-19', 'Region': 'South', 'Product': 'D1-Shirt', 'Amount': '', 'Customer ID': 'C003'}\n",
      "{'Date': '13/3/24', 'Region': '', 'Product': 'G2-Blazers', 'Amount': '1800', 'Customer ID': 'C001'}\n",
      "{'Date': '2024-04-03', 'Region': 'South', 'Product': 'K3-Trousers', 'Amount': '', 'Customer ID': 'C002'}\n",
      "{'Date': '21/04/2024', 'Region': 'East', 'Product': 'G2-Blazers', 'Amount': '2500', 'Customer ID': 'C004'}\n",
      "{'Date': '2024-05-15', 'Region': 'West', 'Product': 'K3-Trousers', 'Amount': '1500', 'Customer ID': 'C001'}\n",
      "{'Date': '27/5/24', 'Region': 'North', 'Product': 'K3-Trousers', 'Amount': '1500', 'Customer ID': 'C004'}\n",
      "{'Date': '2024-06-16', 'Region': 'South', 'Product': 'D1-Shirt', 'Amount': '3000', 'Customer ID': 'C003'}\n",
      "{'Date': '2024-06-24', 'Region': 'East', 'Product': 'g2-Blazers', 'Amount': '2000', 'Customer ID': 'C002'}\n"
     ]
    }
   ],
   "source": [
    "with open('sales_updated.csv', mode='r', newline='') as outfile:\n",
    "    updated_reader = csv.DictReader(outfile)\n",
    "    for row in updated_reader:\n",
    "        print(row) "
   ]
  }
 ],
 "metadata": {
  "kernelspec": {
   "display_name": "Python 3",
   "language": "python",
   "name": "python3"
  },
  "language_info": {
   "codemirror_mode": {
    "name": "ipython",
    "version": 3
   },
   "file_extension": ".py",
   "mimetype": "text/x-python",
   "name": "python",
   "nbconvert_exporter": "python",
   "pygments_lexer": "ipython3",
   "version": "3.10.12"
  }
 },
 "nbformat": 4,
 "nbformat_minor": 2
}
