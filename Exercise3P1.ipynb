{
 "cells": [
  {
   "cell_type": "markdown",
   "metadata": {},
   "source": [
    "-- Using Cleaned Excel file for Analysis using Pandas"
   ]
  },
  {
   "cell_type": "code",
   "execution_count": 1,
   "metadata": {},
   "outputs": [],
   "source": [
    "import pandas as pd"
   ]
  },
  {
   "cell_type": "code",
   "execution_count": 2,
   "metadata": {},
   "outputs": [
    {
     "data": {
      "text/html": [
       "<div>\n",
       "<style scoped>\n",
       "    .dataframe tbody tr th:only-of-type {\n",
       "        vertical-align: middle;\n",
       "    }\n",
       "\n",
       "    .dataframe tbody tr th {\n",
       "        vertical-align: top;\n",
       "    }\n",
       "\n",
       "    .dataframe thead th {\n",
       "        text-align: right;\n",
       "    }\n",
       "</style>\n",
       "<table border=\"1\" class=\"dataframe\">\n",
       "  <thead>\n",
       "    <tr style=\"text-align: right;\">\n",
       "      <th></th>\n",
       "      <th>Unnamed: 0</th>\n",
       "      <th>ID</th>\n",
       "      <th>City</th>\n",
       "      <th>Location</th>\n",
       "      <th>PType</th>\n",
       "      <th>PPN</th>\n",
       "      <th>Nights</th>\n",
       "      <th>Beds</th>\n",
       "      <th>Baths</th>\n",
       "      <th>Reviews</th>\n",
       "      <th>Recent</th>\n",
       "    </tr>\n",
       "  </thead>\n",
       "  <tbody>\n",
       "    <tr>\n",
       "      <th>0</th>\n",
       "      <td>0</td>\n",
       "      <td>IND137</td>\n",
       "      <td>Mumbai</td>\n",
       "      <td>Unknown</td>\n",
       "      <td>Entire Home/Apartment</td>\n",
       "      <td>3200</td>\n",
       "      <td>2.000000</td>\n",
       "      <td>1</td>\n",
       "      <td>1</td>\n",
       "      <td>4.000000</td>\n",
       "      <td>2022-03-12</td>\n",
       "    </tr>\n",
       "    <tr>\n",
       "      <th>1</th>\n",
       "      <td>1</td>\n",
       "      <td>IND138</td>\n",
       "      <td>Bangalore</td>\n",
       "      <td>Indiranagar</td>\n",
       "      <td>Private Room</td>\n",
       "      <td>1800</td>\n",
       "      <td>1.959184</td>\n",
       "      <td>1</td>\n",
       "      <td>1</td>\n",
       "      <td>2.000000</td>\n",
       "      <td>2023-02-15</td>\n",
       "    </tr>\n",
       "    <tr>\n",
       "      <th>2</th>\n",
       "      <td>2</td>\n",
       "      <td>IND139</td>\n",
       "      <td>Delhi</td>\n",
       "      <td>Hauz Khas</td>\n",
       "      <td>Entire Home/Apartment</td>\n",
       "      <td>4200</td>\n",
       "      <td>3.000000</td>\n",
       "      <td>2</td>\n",
       "      <td>2</td>\n",
       "      <td>3.853659</td>\n",
       "      <td>2021-12-25</td>\n",
       "    </tr>\n",
       "    <tr>\n",
       "      <th>3</th>\n",
       "      <td>3</td>\n",
       "      <td>IND140</td>\n",
       "      <td>Chennai</td>\n",
       "      <td>Teynampet</td>\n",
       "      <td>Shared Room</td>\n",
       "      <td>1000</td>\n",
       "      <td>1.000000</td>\n",
       "      <td>2</td>\n",
       "      <td>1</td>\n",
       "      <td>1.000000</td>\n",
       "      <td>2022-05-05</td>\n",
       "    </tr>\n",
       "    <tr>\n",
       "      <th>4</th>\n",
       "      <td>4</td>\n",
       "      <td>IND141</td>\n",
       "      <td>Hyderabad</td>\n",
       "      <td>Jubilee Hills</td>\n",
       "      <td>Entire Home/Apartment</td>\n",
       "      <td>3800</td>\n",
       "      <td>3.000000</td>\n",
       "      <td>3</td>\n",
       "      <td>3</td>\n",
       "      <td>5.000000</td>\n",
       "      <td>2022-08-20</td>\n",
       "    </tr>\n",
       "  </tbody>\n",
       "</table>\n",
       "</div>"
      ],
      "text/plain": [
       "   Unnamed: 0      ID       City      Location                   PType   PPN  \\\n",
       "0           0  IND137     Mumbai        Unknown  Entire Home/Apartment  3200   \n",
       "1           1  IND138  Bangalore    Indiranagar           Private Room  1800   \n",
       "2           2  IND139      Delhi      Hauz Khas  Entire Home/Apartment  4200   \n",
       "3           3  IND140    Chennai      Teynampet            Shared Room  1000   \n",
       "4           4  IND141  Hyderabad  Jubilee Hills  Entire Home/Apartment  3800   \n",
       "\n",
       "     Nights  Beds  Baths   Reviews      Recent  \n",
       "0  2.000000     1      1  4.000000  2022-03-12  \n",
       "1  1.959184     1      1  2.000000  2023-02-15  \n",
       "2  3.000000     2      2  3.853659  2021-12-25  \n",
       "3  1.000000     2      1  1.000000  2022-05-05  \n",
       "4  3.000000     3      3  5.000000  2022-08-20  "
      ]
     },
     "execution_count": 2,
     "metadata": {},
     "output_type": "execute_result"
    }
   ],
   "source": [
    "df = pd.read_excel(\"cleaned_data.xlsx\")\n",
    "df.head()"
   ]
  },
  {
   "cell_type": "markdown",
   "metadata": {},
   "source": [
    "- P1> Find average PPN for each city"
   ]
  },
  {
   "cell_type": "markdown",
   "metadata": {},
   "source": [
    "- calculating avg PPN grouping the columns by City"
   ]
  },
  {
   "cell_type": "code",
   "execution_count": 3,
   "metadata": {},
   "outputs": [
    {
     "data": {
      "text/plain": [
       "City\n",
       "Bangalore    4050.000000\n",
       "Mumbai       3966.666667\n",
       "Hyderabad    3633.333333\n",
       "Pune         3133.333333\n",
       "Chennai      2587.500000\n",
       "Delhi        2414.285714\n",
       "Kolkata      2216.666667\n",
       "Name: PPN, dtype: float64"
      ]
     },
     "execution_count": 3,
     "metadata": {},
     "output_type": "execute_result"
    }
   ],
   "source": [
    "df_pvt=df.groupby('City')['PPN'].mean().sort_values(ascending=False)\n",
    "df_pvt\n"
   ]
  },
  {
   "cell_type": "markdown",
   "metadata": {},
   "source": [
    "-- Plotting the Calculated Columns using matplotlib module "
   ]
  },
  {
   "cell_type": "code",
   "execution_count": 4,
   "metadata": {},
   "outputs": [
    {
     "data": {
      "text/plain": [
       "Text(0, 0.5, 'PPN')"
      ]
     },
     "execution_count": 4,
     "metadata": {},
     "output_type": "execute_result"
    },
    {
     "data": {
      "image/png": "[encoded data removed]",
      "text/plain": [
       "<Figure size 640x480 with 1 Axes>"
      ]
     },
     "metadata": {},
     "output_type": "display_data"
    }
   ],
   "source": [
    "ax=df_pvt.plot(kind='bar', legend=True, title='Average PPN per City')\n",
    "\n",
    "ax.set_ylabel(\"PPN\")"
   ]
  },
  {
   "cell_type": "markdown",
   "metadata": {},
   "source": [
    "-- INFERENCCE AND OBSERVATIONS"
   ]
  },
  {
   "cell_type": "markdown",
   "metadata": {},
   "source": [
    "- Bangalore has the highest average PPN (~4050), meaning it is the most expensive city in this dataset.\n",
    "- Mumbai follows closely with an average PPN of ~3966, so it's also quite expensive.\n",
    "- Hyderabad and Pune fall in the mid-range (~3633 and ~3133), meaning they are relatively more affordable than     Bangalore and Mumbai but still not the cheapest.\n",
    "- Chennai, Delhi, and Kolkata have the lowest average PPN, with Kolkata being the most affordable (~2216).\n",
    "- Overall Trend: Bigger metro cities (Bangalore, Mumbai) tend to have higher prices, while cities like Kolkata and Delhi have lower average PPN."
   ]
  }
 ],
 "metadata": {
  "kernelspec": {
   "display_name": "Python 3",
   "language": "python",
   "name": "python3"
  },
  "language_info": {
   "codemirror_mode": {
    "name": "ipython",
    "version": 3
   },
   "file_extension": ".py",
   "mimetype": "text/x-python",
   "name": "python",
   "nbconvert_exporter": "python",
   "pygments_lexer": "ipython3",
   "version": "3.10.12"
  }
 },
 "nbformat": 4,
 "nbformat_minor": 2
}
