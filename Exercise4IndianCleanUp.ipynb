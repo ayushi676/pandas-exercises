{
 "cells": [
  {
   "cell_type": "markdown",
   "metadata": {},
   "source": [
    "-- CLEANING indian_movies.csv FILE"
   ]
  },
  {
   "cell_type": "markdown",
   "metadata": {},
   "source": [
    "-- importing necessary modules"
   ]
  },
  {
   "cell_type": "code",
   "execution_count": 2,
   "metadata": {},
   "outputs": [],
   "source": [
    "import pandas as pd"
   ]
  },
  {
   "cell_type": "markdown",
   "metadata": {},
   "source": [
    "-- Path for my datafile"
   ]
  },
  {
   "cell_type": "code",
   "execution_count": 3,
   "metadata": {},
   "outputs": [
    {
     "data": {
      "text/plain": [
       "'data/movies_data/indian_movies.csv'"
      ]
     },
     "execution_count": 3,
     "metadata": {},
     "output_type": "execute_result"
    }
   ],
   "source": [
    "folder=\"data\"\n",
    "subfolder=\"movies_data\"\n",
    "filename=\"indian_movies.csv\"\n",
    "path=f'{folder}/{subfolder}/{filename}'\n",
    "path"
   ]
  },
  {
   "cell_type": "markdown",
   "metadata": {},
   "source": [
    "-- reading the data from csv file and storing it in dataframe for cleaning"
   ]
  },
  {
   "cell_type": "code",
   "execution_count": 4,
   "metadata": {},
   "outputs": [
    {
     "data": {
      "text/html": [
       "<div>\n",
       "<style scoped>\n",
       "    .dataframe tbody tr th:only-of-type {\n",
       "        vertical-align: middle;\n",
       "    }\n",
       "\n",
       "    .dataframe tbody tr th {\n",
       "        vertical-align: top;\n",
       "    }\n",
       "\n",
       "    .dataframe thead th {\n",
       "        text-align: right;\n",
       "    }\n",
       "</style>\n",
       "<table border=\"1\" class=\"dataframe\">\n",
       "  <thead>\n",
       "    <tr style=\"text-align: right;\">\n",
       "      <th></th>\n",
       "      <th>Unnamed: 0</th>\n",
       "      <th>MovieID</th>\n",
       "      <th>Title</th>\n",
       "      <th>Director</th>\n",
       "      <th>Genre</th>\n",
       "      <th>ReleaseYear</th>\n",
       "      <th>Budget (Crores)</th>\n",
       "      <th>BoxOffice (Crores)</th>\n",
       "      <th>Rating</th>\n",
       "      <th>Duration (minutes)</th>\n",
       "      <th>LeadActor</th>\n",
       "      <th>LeadActress</th>\n",
       "      <th>Language</th>\n",
       "      <th>ProductionCompany</th>\n",
       "    </tr>\n",
       "  </thead>\n",
       "  <tbody>\n",
       "    <tr>\n",
       "      <th>0</th>\n",
       "      <td>7</td>\n",
       "      <td>MOV008</td>\n",
       "      <td>Sarkar (Tamil)</td>\n",
       "      <td>A. R. Murugadoss</td>\n",
       "      <td>Action Thriller</td>\n",
       "      <td>2005.0</td>\n",
       "      <td>NaN</td>\n",
       "      <td>NaN</td>\n",
       "      <td>7.5</td>\n",
       "      <td>173.0</td>\n",
       "      <td>Vijay</td>\n",
       "      <td>Keerthy Suresh</td>\n",
       "      <td>Tamil</td>\n",
       "      <td>Kalaignar TV</td>\n",
       "    </tr>\n",
       "    <tr>\n",
       "      <th>1</th>\n",
       "      <td>9</td>\n",
       "      <td>MOV010</td>\n",
       "      <td>2.0 (Tamil)</td>\n",
       "      <td>S. Shankar</td>\n",
       "      <td>Science Fiction Action</td>\n",
       "      <td>2018.0</td>\n",
       "      <td>550.0</td>\n",
       "      <td>800.0</td>\n",
       "      <td>6.9</td>\n",
       "      <td>147.0</td>\n",
       "      <td>Rajinikanth</td>\n",
       "      <td>Amy Jackson</td>\n",
       "      <td>Tamil</td>\n",
       "      <td>Lyca Productions</td>\n",
       "    </tr>\n",
       "    <tr>\n",
       "      <th>2</th>\n",
       "      <td>21</td>\n",
       "      <td>MOV022</td>\n",
       "      <td>K.G.F: Chapter 1</td>\n",
       "      <td>Prashanth Neel</td>\n",
       "      <td>Action Drama</td>\n",
       "      <td>2018.0</td>\n",
       "      <td>50.0</td>\n",
       "      <td>250.0</td>\n",
       "      <td>7.9</td>\n",
       "      <td>156.0</td>\n",
       "      <td>Yash</td>\n",
       "      <td>Srinidhi Shetty</td>\n",
       "      <td>Kannada</td>\n",
       "      <td>Hombale Films</td>\n",
       "    </tr>\n",
       "    <tr>\n",
       "      <th>3</th>\n",
       "      <td>23</td>\n",
       "      <td>MOV024</td>\n",
       "      <td>Avengers: Endgame (Dubbed)</td>\n",
       "      <td>Anthony Russo, Joseph Russo</td>\n",
       "      <td>Superhero</td>\n",
       "      <td>2019.0</td>\n",
       "      <td>NaN</td>\n",
       "      <td>NaN</td>\n",
       "      <td>8.4</td>\n",
       "      <td>181.0</td>\n",
       "      <td>Robert Downey Jr.</td>\n",
       "      <td>Scarlett Johansson</td>\n",
       "      <td>English (Dubbed in Telugu, Kannada, Hindi)</td>\n",
       "      <td>Marvel Studios</td>\n",
       "    </tr>\n",
       "    <tr>\n",
       "      <th>4</th>\n",
       "      <td>25</td>\n",
       "      <td>MOV026</td>\n",
       "      <td>Pailwaan</td>\n",
       "      <td>S. Krishna</td>\n",
       "      <td>Sports Action</td>\n",
       "      <td>2019.0</td>\n",
       "      <td>30.0</td>\n",
       "      <td>55.0</td>\n",
       "      <td>6.8</td>\n",
       "      <td>NaN</td>\n",
       "      <td>Sudeep</td>\n",
       "      <td>Aakanksha Singh</td>\n",
       "      <td>Kannada</td>\n",
       "      <td>RRR Motion Pictures</td>\n",
       "    </tr>\n",
       "  </tbody>\n",
       "</table>\n",
       "</div>"
      ],
      "text/plain": [
       "   Unnamed: 0 MovieID                       Title  \\\n",
       "0           7  MOV008              Sarkar (Tamil)   \n",
       "1           9  MOV010                 2.0 (Tamil)   \n",
       "2          21  MOV022            K.G.F: Chapter 1   \n",
       "3          23  MOV024  Avengers: Endgame (Dubbed)   \n",
       "4          25  MOV026                    Pailwaan   \n",
       "\n",
       "                      Director                   Genre  ReleaseYear  \\\n",
       "0             A. R. Murugadoss         Action Thriller       2005.0   \n",
       "1                   S. Shankar  Science Fiction Action       2018.0   \n",
       "2               Prashanth Neel            Action Drama       2018.0   \n",
       "3  Anthony Russo, Joseph Russo               Superhero       2019.0   \n",
       "4                   S. Krishna           Sports Action       2019.0   \n",
       "\n",
       "   Budget (Crores)  BoxOffice (Crores)  Rating  Duration (minutes)  \\\n",
       "0              NaN                 NaN     7.5               173.0   \n",
       "1            550.0               800.0     6.9               147.0   \n",
       "2             50.0               250.0     7.9               156.0   \n",
       "3              NaN                 NaN     8.4               181.0   \n",
       "4             30.0                55.0     6.8                 NaN   \n",
       "\n",
       "           LeadActor         LeadActress  \\\n",
       "0              Vijay      Keerthy Suresh   \n",
       "1        Rajinikanth         Amy Jackson   \n",
       "2               Yash     Srinidhi Shetty   \n",
       "3  Robert Downey Jr.  Scarlett Johansson   \n",
       "4             Sudeep     Aakanksha Singh   \n",
       "\n",
       "                                     Language    ProductionCompany  \n",
       "0                                       Tamil         Kalaignar TV  \n",
       "1                                       Tamil     Lyca Productions  \n",
       "2                                     Kannada        Hombale Films  \n",
       "3  English (Dubbed in Telugu, Kannada, Hindi)       Marvel Studios  \n",
       "4                                     Kannada  RRR Motion Pictures  "
      ]
     },
     "execution_count": 4,
     "metadata": {},
     "output_type": "execute_result"
    }
   ],
   "source": [
    "df=pd.read_csv(path)\n",
    "df.head()"
   ]
  },
  {
   "cell_type": "markdown",
   "metadata": {},
   "source": [
    "-- getting info of the dataframe for Cleaning"
   ]
  },
  {
   "cell_type": "code",
   "execution_count": 5,
   "metadata": {},
   "outputs": [
    {
     "name": "stdout",
     "output_type": "stream",
     "text": [
      "<class 'pandas.core.frame.DataFrame'>\n",
      "RangeIndex: 18 entries, 0 to 17\n",
      "Data columns (total 14 columns):\n",
      " #   Column              Non-Null Count  Dtype  \n",
      "---  ------              --------------  -----  \n",
      " 0   Unnamed: 0          18 non-null     int64  \n",
      " 1   MovieID             18 non-null     object \n",
      " 2   Title               18 non-null     object \n",
      " 3   Director            18 non-null     object \n",
      " 4   Genre               18 non-null     object \n",
      " 5   ReleaseYear         17 non-null     float64\n",
      " 6   Budget (Crores)     10 non-null     float64\n",
      " 7   BoxOffice (Crores)  10 non-null     float64\n",
      " 8   Rating              17 non-null     float64\n",
      " 9   Duration (minutes)  17 non-null     float64\n",
      " 10  LeadActor           18 non-null     object \n",
      " 11  LeadActress         18 non-null     object \n",
      " 12  Language            18 non-null     object \n",
      " 13  ProductionCompany   18 non-null     object \n",
      "dtypes: float64(5), int64(1), object(8)\n",
      "memory usage: 2.1+ KB\n"
     ]
    }
   ],
   "source": [
    "df.info()"
   ]
  },
  {
   "cell_type": "markdown",
   "metadata": {},
   "source": [
    "-- Renaming Unnamed :0 column with \"index\" as present in other tables"
   ]
  },
  {
   "cell_type": "code",
   "execution_count": 6,
   "metadata": {},
   "outputs": [
    {
     "data": {
      "text/html": [
       "<div>\n",
       "<style scoped>\n",
       "    .dataframe tbody tr th:only-of-type {\n",
       "        vertical-align: middle;\n",
       "    }\n",
       "\n",
       "    .dataframe tbody tr th {\n",
       "        vertical-align: top;\n",
       "    }\n",
       "\n",
       "    .dataframe thead th {\n",
       "        text-align: right;\n",
       "    }\n",
       "</style>\n",
       "<table border=\"1\" class=\"dataframe\">\n",
       "  <thead>\n",
       "    <tr style=\"text-align: right;\">\n",
       "      <th></th>\n",
       "      <th>index</th>\n",
       "      <th>MovieID</th>\n",
       "      <th>Title</th>\n",
       "      <th>Director</th>\n",
       "      <th>Genre</th>\n",
       "      <th>ReleaseYear</th>\n",
       "      <th>Budget (Crores)</th>\n",
       "      <th>BoxOffice (Crores)</th>\n",
       "      <th>Rating</th>\n",
       "      <th>Duration (minutes)</th>\n",
       "      <th>LeadActor</th>\n",
       "      <th>LeadActress</th>\n",
       "      <th>Language</th>\n",
       "      <th>ProductionCompany</th>\n",
       "    </tr>\n",
       "  </thead>\n",
       "  <tbody>\n",
       "    <tr>\n",
       "      <th>0</th>\n",
       "      <td>7</td>\n",
       "      <td>MOV008</td>\n",
       "      <td>Sarkar (Tamil)</td>\n",
       "      <td>A. R. Murugadoss</td>\n",
       "      <td>Action Thriller</td>\n",
       "      <td>2005.0</td>\n",
       "      <td>NaN</td>\n",
       "      <td>NaN</td>\n",
       "      <td>7.5</td>\n",
       "      <td>173.0</td>\n",
       "      <td>Vijay</td>\n",
       "      <td>Keerthy Suresh</td>\n",
       "      <td>Tamil</td>\n",
       "      <td>Kalaignar TV</td>\n",
       "    </tr>\n",
       "    <tr>\n",
       "      <th>1</th>\n",
       "      <td>9</td>\n",
       "      <td>MOV010</td>\n",
       "      <td>2.0 (Tamil)</td>\n",
       "      <td>S. Shankar</td>\n",
       "      <td>Science Fiction Action</td>\n",
       "      <td>2018.0</td>\n",
       "      <td>550.0</td>\n",
       "      <td>800.0</td>\n",
       "      <td>6.9</td>\n",
       "      <td>147.0</td>\n",
       "      <td>Rajinikanth</td>\n",
       "      <td>Amy Jackson</td>\n",
       "      <td>Tamil</td>\n",
       "      <td>Lyca Productions</td>\n",
       "    </tr>\n",
       "    <tr>\n",
       "      <th>2</th>\n",
       "      <td>21</td>\n",
       "      <td>MOV022</td>\n",
       "      <td>K.G.F: Chapter 1</td>\n",
       "      <td>Prashanth Neel</td>\n",
       "      <td>Action Drama</td>\n",
       "      <td>2018.0</td>\n",
       "      <td>50.0</td>\n",
       "      <td>250.0</td>\n",
       "      <td>7.9</td>\n",
       "      <td>156.0</td>\n",
       "      <td>Yash</td>\n",
       "      <td>Srinidhi Shetty</td>\n",
       "      <td>Kannada</td>\n",
       "      <td>Hombale Films</td>\n",
       "    </tr>\n",
       "    <tr>\n",
       "      <th>3</th>\n",
       "      <td>23</td>\n",
       "      <td>MOV024</td>\n",
       "      <td>Avengers: Endgame (Dubbed)</td>\n",
       "      <td>Anthony Russo, Joseph Russo</td>\n",
       "      <td>Superhero</td>\n",
       "      <td>2019.0</td>\n",
       "      <td>NaN</td>\n",
       "      <td>NaN</td>\n",
       "      <td>8.4</td>\n",
       "      <td>181.0</td>\n",
       "      <td>Robert Downey Jr.</td>\n",
       "      <td>Scarlett Johansson</td>\n",
       "      <td>English (Dubbed in Telugu, Kannada, Hindi)</td>\n",
       "      <td>Marvel Studios</td>\n",
       "    </tr>\n",
       "    <tr>\n",
       "      <th>4</th>\n",
       "      <td>25</td>\n",
       "      <td>MOV026</td>\n",
       "      <td>Pailwaan</td>\n",
       "      <td>S. Krishna</td>\n",
       "      <td>Sports Action</td>\n",
       "      <td>2019.0</td>\n",
       "      <td>30.0</td>\n",
       "      <td>55.0</td>\n",
       "      <td>6.8</td>\n",
       "      <td>NaN</td>\n",
       "      <td>Sudeep</td>\n",
       "      <td>Aakanksha Singh</td>\n",
       "      <td>Kannada</td>\n",
       "      <td>RRR Motion Pictures</td>\n",
       "    </tr>\n",
       "  </tbody>\n",
       "</table>\n",
       "</div>"
      ],
      "text/plain": [
       "   index MovieID                       Title                     Director  \\\n",
       "0      7  MOV008              Sarkar (Tamil)             A. R. Murugadoss   \n",
       "1      9  MOV010                 2.0 (Tamil)                   S. Shankar   \n",
       "2     21  MOV022            K.G.F: Chapter 1               Prashanth Neel   \n",
       "3     23  MOV024  Avengers: Endgame (Dubbed)  Anthony Russo, Joseph Russo   \n",
       "4     25  MOV026                    Pailwaan                   S. Krishna   \n",
       "\n",
       "                    Genre  ReleaseYear  Budget (Crores)  BoxOffice (Crores)  \\\n",
       "0         Action Thriller       2005.0              NaN                 NaN   \n",
       "1  Science Fiction Action       2018.0            550.0               800.0   \n",
       "2            Action Drama       2018.0             50.0               250.0   \n",
       "3               Superhero       2019.0              NaN                 NaN   \n",
       "4           Sports Action       2019.0             30.0                55.0   \n",
       "\n",
       "   Rating  Duration (minutes)          LeadActor         LeadActress  \\\n",
       "0     7.5               173.0              Vijay      Keerthy Suresh   \n",
       "1     6.9               147.0        Rajinikanth         Amy Jackson   \n",
       "2     7.9               156.0               Yash     Srinidhi Shetty   \n",
       "3     8.4               181.0  Robert Downey Jr.  Scarlett Johansson   \n",
       "4     6.8                 NaN             Sudeep     Aakanksha Singh   \n",
       "\n",
       "                                     Language    ProductionCompany  \n",
       "0                                       Tamil         Kalaignar TV  \n",
       "1                                       Tamil     Lyca Productions  \n",
       "2                                     Kannada        Hombale Films  \n",
       "3  English (Dubbed in Telugu, Kannada, Hindi)       Marvel Studios  \n",
       "4                                     Kannada  RRR Motion Pictures  "
      ]
     },
     "execution_count": 6,
     "metadata": {},
     "output_type": "execute_result"
    }
   ],
   "source": [
    "df.rename(columns={'Unnamed: 0': 'index'}, inplace=True)\n",
    "df.head()"
   ]
  },
  {
   "cell_type": "markdown",
   "metadata": {},
   "source": [
    "-- ReleaseYear has a missing value and also its datatype should be int nott float"
   ]
  },
  {
   "cell_type": "code",
   "execution_count": 7,
   "metadata": {},
   "outputs": [
    {
     "data": {
      "text/html": [
       "<div>\n",
       "<style scoped>\n",
       "    .dataframe tbody tr th:only-of-type {\n",
       "        vertical-align: middle;\n",
       "    }\n",
       "\n",
       "    .dataframe tbody tr th {\n",
       "        vertical-align: top;\n",
       "    }\n",
       "\n",
       "    .dataframe thead th {\n",
       "        text-align: right;\n",
       "    }\n",
       "</style>\n",
       "<table border=\"1\" class=\"dataframe\">\n",
       "  <thead>\n",
       "    <tr style=\"text-align: right;\">\n",
       "      <th></th>\n",
       "      <th>index</th>\n",
       "      <th>MovieID</th>\n",
       "      <th>Title</th>\n",
       "      <th>Director</th>\n",
       "      <th>Genre</th>\n",
       "      <th>ReleaseYear</th>\n",
       "      <th>Budget (Crores)</th>\n",
       "      <th>BoxOffice (Crores)</th>\n",
       "      <th>Rating</th>\n",
       "      <th>Duration (minutes)</th>\n",
       "      <th>LeadActor</th>\n",
       "      <th>LeadActress</th>\n",
       "      <th>Language</th>\n",
       "      <th>ProductionCompany</th>\n",
       "    </tr>\n",
       "  </thead>\n",
       "  <tbody>\n",
       "    <tr>\n",
       "      <th>17</th>\n",
       "      <td>48</td>\n",
       "      <td>MOV049</td>\n",
       "      <td>U Turn</td>\n",
       "      <td>Pawan Kumar</td>\n",
       "      <td>Thriller</td>\n",
       "      <td>NaN</td>\n",
       "      <td>5.0</td>\n",
       "      <td>20.0</td>\n",
       "      <td>7.9</td>\n",
       "      <td>128.0</td>\n",
       "      <td>Shraddha Srinath</td>\n",
       "      <td>Dilip Raj</td>\n",
       "      <td>Kannada</td>\n",
       "      <td>PRK Productions</td>\n",
       "    </tr>\n",
       "  </tbody>\n",
       "</table>\n",
       "</div>"
      ],
      "text/plain": [
       "    index MovieID   Title     Director     Genre  ReleaseYear  \\\n",
       "17     48  MOV049  U Turn  Pawan Kumar  Thriller          NaN   \n",
       "\n",
       "    Budget (Crores)  BoxOffice (Crores)  Rating  Duration (minutes)  \\\n",
       "17              5.0                20.0     7.9               128.0   \n",
       "\n",
       "           LeadActor LeadActress Language ProductionCompany  \n",
       "17  Shraddha Srinath   Dilip Raj  Kannada   PRK Productions  "
      ]
     },
     "execution_count": 7,
     "metadata": {},
     "output_type": "execute_result"
    }
   ],
   "source": [
    "df[df.ReleaseYear.isna()]"
   ]
  },
  {
   "cell_type": "markdown",
   "metadata": {},
   "source": [
    "-- from bollywood_movies.sqlite data ,  I extracted df[df['MovieID']=='MOV049'] which gave output 2016 as Release year for the movie U Turn so I will fill the correct data here."
   ]
  },
  {
   "cell_type": "code",
   "execution_count": 8,
   "metadata": {},
   "outputs": [],
   "source": [
    "df['ReleaseYear']=df['ReleaseYear'].fillna(2016)"
   ]
  },
  {
   "cell_type": "markdown",
   "metadata": {},
   "source": [
    "-- Now datatype of ReleaseYear should be int"
   ]
  },
  {
   "cell_type": "code",
   "execution_count": 9,
   "metadata": {},
   "outputs": [
    {
     "name": "stdout",
     "output_type": "stream",
     "text": [
      "<class 'pandas.core.frame.DataFrame'>\n",
      "RangeIndex: 18 entries, 0 to 17\n",
      "Data columns (total 14 columns):\n",
      " #   Column              Non-Null Count  Dtype  \n",
      "---  ------              --------------  -----  \n",
      " 0   index               18 non-null     int64  \n",
      " 1   MovieID             18 non-null     object \n",
      " 2   Title               18 non-null     object \n",
      " 3   Director            18 non-null     object \n",
      " 4   Genre               18 non-null     object \n",
      " 5   ReleaseYear         18 non-null     int64  \n",
      " 6   Budget (Crores)     10 non-null     float64\n",
      " 7   BoxOffice (Crores)  10 non-null     float64\n",
      " 8   Rating              17 non-null     float64\n",
      " 9   Duration (minutes)  17 non-null     float64\n",
      " 10  LeadActor           18 non-null     object \n",
      " 11  LeadActress         18 non-null     object \n",
      " 12  Language            18 non-null     object \n",
      " 13  ProductionCompany   18 non-null     object \n",
      "dtypes: float64(4), int64(2), object(8)\n",
      "memory usage: 2.1+ KB\n"
     ]
    }
   ],
   "source": [
    "df['ReleaseYear']=df[\"ReleaseYear\"].astype(int)\n",
    "df.info()"
   ]
  },
  {
   "cell_type": "markdown",
   "metadata": {},
   "source": [
    "-- now, we have missing data and incorrect datatype in  row label:  6   Budget (Crores)     10 non-null     float64 and rowlabel :  7   BoxOffice (Crores)  10 non-null     float64\n"
   ]
  },
  {
   "cell_type": "markdown",
   "metadata": {},
   "source": [
    "-- getting rows with missing data in Budget column"
   ]
  },
  {
   "cell_type": "code",
   "execution_count": 10,
   "metadata": {},
   "outputs": [
    {
     "data": {
      "text/html": [
       "<div>\n",
       "<style scoped>\n",
       "    .dataframe tbody tr th:only-of-type {\n",
       "        vertical-align: middle;\n",
       "    }\n",
       "\n",
       "    .dataframe tbody tr th {\n",
       "        vertical-align: top;\n",
       "    }\n",
       "\n",
       "    .dataframe thead th {\n",
       "        text-align: right;\n",
       "    }\n",
       "</style>\n",
       "<table border=\"1\" class=\"dataframe\">\n",
       "  <thead>\n",
       "    <tr style=\"text-align: right;\">\n",
       "      <th></th>\n",
       "      <th>index</th>\n",
       "      <th>MovieID</th>\n",
       "      <th>Title</th>\n",
       "      <th>Director</th>\n",
       "      <th>Genre</th>\n",
       "      <th>ReleaseYear</th>\n",
       "      <th>Budget (Crores)</th>\n",
       "      <th>BoxOffice (Crores)</th>\n",
       "      <th>Rating</th>\n",
       "      <th>Duration (minutes)</th>\n",
       "      <th>LeadActor</th>\n",
       "      <th>LeadActress</th>\n",
       "      <th>Language</th>\n",
       "      <th>ProductionCompany</th>\n",
       "    </tr>\n",
       "  </thead>\n",
       "  <tbody>\n",
       "    <tr>\n",
       "      <th>0</th>\n",
       "      <td>7</td>\n",
       "      <td>MOV008</td>\n",
       "      <td>Sarkar (Tamil)</td>\n",
       "      <td>A. R. Murugadoss</td>\n",
       "      <td>Action Thriller</td>\n",
       "      <td>2005</td>\n",
       "      <td>NaN</td>\n",
       "      <td>NaN</td>\n",
       "      <td>7.5</td>\n",
       "      <td>173.0</td>\n",
       "      <td>Vijay</td>\n",
       "      <td>Keerthy Suresh</td>\n",
       "      <td>Tamil</td>\n",
       "      <td>Kalaignar TV</td>\n",
       "    </tr>\n",
       "    <tr>\n",
       "      <th>3</th>\n",
       "      <td>23</td>\n",
       "      <td>MOV024</td>\n",
       "      <td>Avengers: Endgame (Dubbed)</td>\n",
       "      <td>Anthony Russo, Joseph Russo</td>\n",
       "      <td>Superhero</td>\n",
       "      <td>2019</td>\n",
       "      <td>NaN</td>\n",
       "      <td>NaN</td>\n",
       "      <td>8.4</td>\n",
       "      <td>181.0</td>\n",
       "      <td>Robert Downey Jr.</td>\n",
       "      <td>Scarlett Johansson</td>\n",
       "      <td>English (Dubbed in Telugu, Kannada, Hindi)</td>\n",
       "      <td>Marvel Studios</td>\n",
       "    </tr>\n",
       "    <tr>\n",
       "      <th>9</th>\n",
       "      <td>32</td>\n",
       "      <td>MOV033</td>\n",
       "      <td>96 (Kannada Dubbed)</td>\n",
       "      <td>C. Premkumar</td>\n",
       "      <td>Romantic Drama</td>\n",
       "      <td>2019</td>\n",
       "      <td>NaN</td>\n",
       "      <td>NaN</td>\n",
       "      <td>7.9</td>\n",
       "      <td>158.0</td>\n",
       "      <td>Vijay Sethupathi</td>\n",
       "      <td>Trisha</td>\n",
       "      <td>Kannada (Dubbed from Tamil)</td>\n",
       "      <td>Madras Enterprises</td>\n",
       "    </tr>\n",
       "    <tr>\n",
       "      <th>10</th>\n",
       "      <td>34</td>\n",
       "      <td>MOV035</td>\n",
       "      <td>Dabangg 3 (Dubbed)</td>\n",
       "      <td>Prabhu Deva</td>\n",
       "      <td>Action Comedy</td>\n",
       "      <td>2019</td>\n",
       "      <td>NaN</td>\n",
       "      <td>NaN</td>\n",
       "      <td>5.8</td>\n",
       "      <td>159.0</td>\n",
       "      <td>Salman Khan</td>\n",
       "      <td>Sonakshi Sinha</td>\n",
       "      <td>Telugu (Dubbed from Hindi)</td>\n",
       "      <td>S. K. Film Enterprises</td>\n",
       "    </tr>\n",
       "    <tr>\n",
       "      <th>11</th>\n",
       "      <td>36</td>\n",
       "      <td>MOV037</td>\n",
       "      <td>Shylock (Kannada Dubbed)</td>\n",
       "      <td>Ajai Vasudev</td>\n",
       "      <td>Action Thriller</td>\n",
       "      <td>2020</td>\n",
       "      <td>NaN</td>\n",
       "      <td>NaN</td>\n",
       "      <td>6.8</td>\n",
       "      <td>164.0</td>\n",
       "      <td>Mammootty</td>\n",
       "      <td>Rajkiran</td>\n",
       "      <td>Kannada (Dubbed from Malayalam)</td>\n",
       "      <td>Vrindaavan Films</td>\n",
       "    </tr>\n",
       "    <tr>\n",
       "      <th>12</th>\n",
       "      <td>37</td>\n",
       "      <td>MOV038</td>\n",
       "      <td>Love Aaj Kal (Dubbed)</td>\n",
       "      <td>Imtiaz Ali</td>\n",
       "      <td>Romantic Drama</td>\n",
       "      <td>2020</td>\n",
       "      <td>NaN</td>\n",
       "      <td>NaN</td>\n",
       "      <td>4.4</td>\n",
       "      <td>141.0</td>\n",
       "      <td>Kartik Aaryan</td>\n",
       "      <td>Sara Ali Khan</td>\n",
       "      <td>Telugu (Dubbed from Hindi)</td>\n",
       "      <td>Reliance Entertainment</td>\n",
       "    </tr>\n",
       "    <tr>\n",
       "      <th>13</th>\n",
       "      <td>38</td>\n",
       "      <td>MOV039</td>\n",
       "      <td>Forensic (Kannada Dubbed)</td>\n",
       "      <td>Akhil Paul, Anas Khan</td>\n",
       "      <td>Thriller</td>\n",
       "      <td>2020</td>\n",
       "      <td>NaN</td>\n",
       "      <td>NaN</td>\n",
       "      <td>6.9</td>\n",
       "      <td>129.0</td>\n",
       "      <td>Tovino Thomas</td>\n",
       "      <td>Mamta Mohandas</td>\n",
       "      <td>Kannada (Dubbed from Malayalam)</td>\n",
       "      <td>Evil Eye Pictures</td>\n",
       "    </tr>\n",
       "    <tr>\n",
       "      <th>14</th>\n",
       "      <td>39</td>\n",
       "      <td>MOV040</td>\n",
       "      <td>Trance (Kannada Dubbed)</td>\n",
       "      <td>Anwar Rasheed</td>\n",
       "      <td>Psychological Thriller</td>\n",
       "      <td>2020</td>\n",
       "      <td>NaN</td>\n",
       "      <td>NaN</td>\n",
       "      <td>7.1</td>\n",
       "      <td>162.0</td>\n",
       "      <td>Fahadh Faasil</td>\n",
       "      <td>Nazriya Nazim</td>\n",
       "      <td>Kannada (Dubbed from Malayalam)</td>\n",
       "      <td>Dulquer Salmaan Productions</td>\n",
       "    </tr>\n",
       "  </tbody>\n",
       "</table>\n",
       "</div>"
      ],
      "text/plain": [
       "    index MovieID                       Title                     Director  \\\n",
       "0       7  MOV008              Sarkar (Tamil)             A. R. Murugadoss   \n",
       "3      23  MOV024  Avengers: Endgame (Dubbed)  Anthony Russo, Joseph Russo   \n",
       "9      32  MOV033         96 (Kannada Dubbed)                 C. Premkumar   \n",
       "10     34  MOV035          Dabangg 3 (Dubbed)                  Prabhu Deva   \n",
       "11     36  MOV037    Shylock (Kannada Dubbed)                 Ajai Vasudev   \n",
       "12     37  MOV038       Love Aaj Kal (Dubbed)                   Imtiaz Ali   \n",
       "13     38  MOV039   Forensic (Kannada Dubbed)        Akhil Paul, Anas Khan   \n",
       "14     39  MOV040     Trance (Kannada Dubbed)                Anwar Rasheed   \n",
       "\n",
       "                     Genre  ReleaseYear  Budget (Crores)  BoxOffice (Crores)  \\\n",
       "0          Action Thriller         2005              NaN                 NaN   \n",
       "3                Superhero         2019              NaN                 NaN   \n",
       "9           Romantic Drama         2019              NaN                 NaN   \n",
       "10           Action Comedy         2019              NaN                 NaN   \n",
       "11         Action Thriller         2020              NaN                 NaN   \n",
       "12          Romantic Drama         2020              NaN                 NaN   \n",
       "13                Thriller         2020              NaN                 NaN   \n",
       "14  Psychological Thriller         2020              NaN                 NaN   \n",
       "\n",
       "    Rating  Duration (minutes)          LeadActor         LeadActress  \\\n",
       "0      7.5               173.0              Vijay      Keerthy Suresh   \n",
       "3      8.4               181.0  Robert Downey Jr.  Scarlett Johansson   \n",
       "9      7.9               158.0   Vijay Sethupathi              Trisha   \n",
       "10     5.8               159.0        Salman Khan      Sonakshi Sinha   \n",
       "11     6.8               164.0          Mammootty            Rajkiran   \n",
       "12     4.4               141.0      Kartik Aaryan       Sara Ali Khan   \n",
       "13     6.9               129.0      Tovino Thomas      Mamta Mohandas   \n",
       "14     7.1               162.0      Fahadh Faasil       Nazriya Nazim   \n",
       "\n",
       "                                      Language            ProductionCompany  \n",
       "0                                        Tamil                 Kalaignar TV  \n",
       "3   English (Dubbed in Telugu, Kannada, Hindi)               Marvel Studios  \n",
       "9                  Kannada (Dubbed from Tamil)           Madras Enterprises  \n",
       "10                  Telugu (Dubbed from Hindi)       S. K. Film Enterprises  \n",
       "11             Kannada (Dubbed from Malayalam)             Vrindaavan Films  \n",
       "12                  Telugu (Dubbed from Hindi)       Reliance Entertainment  \n",
       "13             Kannada (Dubbed from Malayalam)            Evil Eye Pictures  \n",
       "14             Kannada (Dubbed from Malayalam)  Dulquer Salmaan Productions  "
      ]
     },
     "execution_count": 10,
     "metadata": {},
     "output_type": "execute_result"
    }
   ],
   "source": [
    "df[df['Budget (Crores)'].isna()]"
   ]
  },
  {
   "cell_type": "markdown",
   "metadata": {},
   "source": [
    "-- from above output its clear that same 8 movies are missing Budget and Boxoffice values."
   ]
  },
  {
   "cell_type": "markdown",
   "metadata": {},
   "source": [
    "-- we can get these values from bollywood_movies.sqlite data and update them in this table"
   ]
  },
  {
   "cell_type": "markdown",
   "metadata": {},
   "source": [
    "-- these tables contain median values i.e 50 for Budget and 250 for Boxoffice so we can update empty rows with this value"
   ]
  },
  {
   "cell_type": "markdown",
   "metadata": {},
   "source": [
    "-- if it was an independent table I would have filled missing values with median value for these columns calculated with the data of this table, since these movies are all from its parents table i.e bollywood_movies I'm updating data as per the data present in bollywood_movies.sqlite to avoid inconsistency."
   ]
  },
  {
   "cell_type": "code",
   "execution_count": 11,
   "metadata": {},
   "outputs": [
    {
     "data": {
      "text/plain": [
       "0      25.0\n",
       "1     550.0\n",
       "2      50.0\n",
       "3      25.0\n",
       "4      30.0\n",
       "5      20.0\n",
       "6      10.0\n",
       "7     300.0\n",
       "8       5.0\n",
       "9      25.0\n",
       "10     25.0\n",
       "11     25.0\n",
       "12     25.0\n",
       "13     25.0\n",
       "14     25.0\n",
       "15     50.0\n",
       "16      1.0\n",
       "17      5.0\n",
       "Name: Budget (Crores), dtype: float64"
      ]
     },
     "execution_count": 11,
     "metadata": {},
     "output_type": "execute_result"
    }
   ],
   "source": [
    "\n",
    "df['Budget (Crores)'].fillna(df[\"Budget (Crores)\"].median())\n",
    "\n"
   ]
  },
  {
   "cell_type": "code",
   "execution_count": 12,
   "metadata": {},
   "outputs": [
    {
     "data": {
      "text/plain": [
       "0      47.5\n",
       "1     800.0\n",
       "2     250.0\n",
       "3      47.5\n",
       "4      55.0\n",
       "5      40.0\n",
       "6      20.0\n",
       "7     450.0\n",
       "8      10.0\n",
       "9      47.5\n",
       "10     47.5\n",
       "11     47.5\n",
       "12     47.5\n",
       "13     47.5\n",
       "14     47.5\n",
       "15    250.0\n",
       "16      5.0\n",
       "17     20.0\n",
       "Name: BoxOffice (Crores), dtype: float64"
      ]
     },
     "execution_count": 12,
     "metadata": {},
     "output_type": "execute_result"
    }
   ],
   "source": [
    "df['BoxOffice (Crores)'].fillna(df['BoxOffice (Crores)'].median())"
   ]
  },
  {
   "cell_type": "markdown",
   "metadata": {},
   "source": [
    "clealrly , median values in this table differ from median values in parent table so updating the values as per parent table ."
   ]
  },
  {
   "cell_type": "code",
   "execution_count": 13,
   "metadata": {},
   "outputs": [],
   "source": [
    "df['Budget (Crores)']=df['Budget (Crores)'].fillna(50)\n",
    "df['BoxOffice (Crores)']=df['BoxOffice (Crores)'].fillna(250)"
   ]
  },
  {
   "cell_type": "code",
   "execution_count": 14,
   "metadata": {},
   "outputs": [
    {
     "name": "stdout",
     "output_type": "stream",
     "text": [
      "<class 'pandas.core.frame.DataFrame'>\n",
      "RangeIndex: 18 entries, 0 to 17\n",
      "Data columns (total 14 columns):\n",
      " #   Column              Non-Null Count  Dtype  \n",
      "---  ------              --------------  -----  \n",
      " 0   index               18 non-null     int64  \n",
      " 1   MovieID             18 non-null     object \n",
      " 2   Title               18 non-null     object \n",
      " 3   Director            18 non-null     object \n",
      " 4   Genre               18 non-null     object \n",
      " 5   ReleaseYear         18 non-null     int64  \n",
      " 6   Budget (Crores)     18 non-null     float64\n",
      " 7   BoxOffice (Crores)  18 non-null     float64\n",
      " 8   Rating              17 non-null     float64\n",
      " 9   Duration (minutes)  17 non-null     float64\n",
      " 10  LeadActor           18 non-null     object \n",
      " 11  LeadActress         18 non-null     object \n",
      " 12  Language            18 non-null     object \n",
      " 13  ProductionCompany   18 non-null     object \n",
      "dtypes: float64(4), int64(2), object(8)\n",
      "memory usage: 2.1+ KB\n"
     ]
    }
   ],
   "source": [
    "df.info()"
   ]
  },
  {
   "cell_type": "markdown",
   "metadata": {},
   "source": [
    "-- Handling missing value in Rating"
   ]
  },
  {
   "cell_type": "code",
   "execution_count": 15,
   "metadata": {},
   "outputs": [
    {
     "data": {
      "text/html": [
       "<div>\n",
       "<style scoped>\n",
       "    .dataframe tbody tr th:only-of-type {\n",
       "        vertical-align: middle;\n",
       "    }\n",
       "\n",
       "    .dataframe tbody tr th {\n",
       "        vertical-align: top;\n",
       "    }\n",
       "\n",
       "    .dataframe thead th {\n",
       "        text-align: right;\n",
       "    }\n",
       "</style>\n",
       "<table border=\"1\" class=\"dataframe\">\n",
       "  <thead>\n",
       "    <tr style=\"text-align: right;\">\n",
       "      <th></th>\n",
       "      <th>index</th>\n",
       "      <th>MovieID</th>\n",
       "      <th>Title</th>\n",
       "      <th>Director</th>\n",
       "      <th>Genre</th>\n",
       "      <th>ReleaseYear</th>\n",
       "      <th>Budget (Crores)</th>\n",
       "      <th>BoxOffice (Crores)</th>\n",
       "      <th>Rating</th>\n",
       "      <th>Duration (minutes)</th>\n",
       "      <th>LeadActor</th>\n",
       "      <th>LeadActress</th>\n",
       "      <th>Language</th>\n",
       "      <th>ProductionCompany</th>\n",
       "    </tr>\n",
       "  </thead>\n",
       "  <tbody>\n",
       "    <tr>\n",
       "      <th>7</th>\n",
       "      <td>30</td>\n",
       "      <td>MOV031</td>\n",
       "      <td>Saaho</td>\n",
       "      <td>Sujeeth</td>\n",
       "      <td>Action Thriller</td>\n",
       "      <td>2019</td>\n",
       "      <td>300.0</td>\n",
       "      <td>450.0</td>\n",
       "      <td>NaN</td>\n",
       "      <td>170.0</td>\n",
       "      <td>Prabhas</td>\n",
       "      <td>Shraddha Kapoor</td>\n",
       "      <td>Telugu (Dubbed in Hindi, Kannada)</td>\n",
       "      <td>UV Creations</td>\n",
       "    </tr>\n",
       "  </tbody>\n",
       "</table>\n",
       "</div>"
      ],
      "text/plain": [
       "   index MovieID  Title Director            Genre  ReleaseYear  \\\n",
       "7     30  MOV031  Saaho  Sujeeth  Action Thriller         2019   \n",
       "\n",
       "   Budget (Crores)  BoxOffice (Crores)  Rating  Duration (minutes) LeadActor  \\\n",
       "7            300.0               450.0     NaN               170.0   Prabhas   \n",
       "\n",
       "       LeadActress                           Language ProductionCompany  \n",
       "7  Shraddha Kapoor  Telugu (Dubbed in Hindi, Kannada)      UV Creations  "
      ]
     },
     "execution_count": 15,
     "metadata": {},
     "output_type": "execute_result"
    }
   ],
   "source": [
    "df[df['Rating'].isna()]"
   ]
  },
  {
   "cell_type": "markdown",
   "metadata": {},
   "source": [
    "-- from parent table we have the value for Rating=6.5 for movie with id MOV031 and title Saaho, updating that value here"
   ]
  },
  {
   "cell_type": "code",
   "execution_count": 16,
   "metadata": {},
   "outputs": [
    {
     "data": {
      "text/html": [
       "<div>\n",
       "<style scoped>\n",
       "    .dataframe tbody tr th:only-of-type {\n",
       "        vertical-align: middle;\n",
       "    }\n",
       "\n",
       "    .dataframe tbody tr th {\n",
       "        vertical-align: top;\n",
       "    }\n",
       "\n",
       "    .dataframe thead th {\n",
       "        text-align: right;\n",
       "    }\n",
       "</style>\n",
       "<table border=\"1\" class=\"dataframe\">\n",
       "  <thead>\n",
       "    <tr style=\"text-align: right;\">\n",
       "      <th></th>\n",
       "      <th>index</th>\n",
       "      <th>MovieID</th>\n",
       "      <th>Title</th>\n",
       "      <th>Director</th>\n",
       "      <th>Genre</th>\n",
       "      <th>ReleaseYear</th>\n",
       "      <th>Budget (Crores)</th>\n",
       "      <th>BoxOffice (Crores)</th>\n",
       "      <th>Rating</th>\n",
       "      <th>Duration (minutes)</th>\n",
       "      <th>LeadActor</th>\n",
       "      <th>LeadActress</th>\n",
       "      <th>Language</th>\n",
       "      <th>ProductionCompany</th>\n",
       "    </tr>\n",
       "  </thead>\n",
       "  <tbody>\n",
       "  </tbody>\n",
       "</table>\n",
       "</div>"
      ],
      "text/plain": [
       "Empty DataFrame\n",
       "Columns: [index, MovieID, Title, Director, Genre, ReleaseYear, Budget (Crores), BoxOffice (Crores), Rating, Duration (minutes), LeadActor, LeadActress, Language, ProductionCompany]\n",
       "Index: []"
      ]
     },
     "execution_count": 16,
     "metadata": {},
     "output_type": "execute_result"
    }
   ],
   "source": [
    "df['Rating']=df['Rating'].fillna(6.5)\n",
    "df[df['Rating'].isna()]"
   ]
  },
  {
   "cell_type": "markdown",
   "metadata": {},
   "source": [
    "-- handling missing data in Duration and its datatype is float which should be int"
   ]
  },
  {
   "cell_type": "code",
   "execution_count": 17,
   "metadata": {},
   "outputs": [
    {
     "data": {
      "text/html": [
       "<div>\n",
       "<style scoped>\n",
       "    .dataframe tbody tr th:only-of-type {\n",
       "        vertical-align: middle;\n",
       "    }\n",
       "\n",
       "    .dataframe tbody tr th {\n",
       "        vertical-align: top;\n",
       "    }\n",
       "\n",
       "    .dataframe thead th {\n",
       "        text-align: right;\n",
       "    }\n",
       "</style>\n",
       "<table border=\"1\" class=\"dataframe\">\n",
       "  <thead>\n",
       "    <tr style=\"text-align: right;\">\n",
       "      <th></th>\n",
       "      <th>index</th>\n",
       "      <th>MovieID</th>\n",
       "      <th>Title</th>\n",
       "      <th>Director</th>\n",
       "      <th>Genre</th>\n",
       "      <th>ReleaseYear</th>\n",
       "      <th>Budget (Crores)</th>\n",
       "      <th>BoxOffice (Crores)</th>\n",
       "      <th>Rating</th>\n",
       "      <th>Duration (minutes)</th>\n",
       "      <th>LeadActor</th>\n",
       "      <th>LeadActress</th>\n",
       "      <th>Language</th>\n",
       "      <th>ProductionCompany</th>\n",
       "    </tr>\n",
       "  </thead>\n",
       "  <tbody>\n",
       "    <tr>\n",
       "      <th>4</th>\n",
       "      <td>25</td>\n",
       "      <td>MOV026</td>\n",
       "      <td>Pailwaan</td>\n",
       "      <td>S. Krishna</td>\n",
       "      <td>Sports Action</td>\n",
       "      <td>2019</td>\n",
       "      <td>30.0</td>\n",
       "      <td>55.0</td>\n",
       "      <td>6.8</td>\n",
       "      <td>NaN</td>\n",
       "      <td>Sudeep</td>\n",
       "      <td>Aakanksha Singh</td>\n",
       "      <td>Kannada</td>\n",
       "      <td>RRR Motion Pictures</td>\n",
       "    </tr>\n",
       "  </tbody>\n",
       "</table>\n",
       "</div>"
      ],
      "text/plain": [
       "   index MovieID     Title    Director          Genre  ReleaseYear  \\\n",
       "4     25  MOV026  Pailwaan  S. Krishna  Sports Action         2019   \n",
       "\n",
       "   Budget (Crores)  BoxOffice (Crores)  Rating  Duration (minutes) LeadActor  \\\n",
       "4             30.0                55.0     6.8                 NaN    Sudeep   \n",
       "\n",
       "       LeadActress Language    ProductionCompany  \n",
       "4  Aakanksha Singh  Kannada  RRR Motion Pictures  "
      ]
     },
     "execution_count": 17,
     "metadata": {},
     "output_type": "execute_result"
    }
   ],
   "source": [
    "df[df['Duration (minutes)'].isna()]"
   ]
  },
  {
   "cell_type": "markdown",
   "metadata": {},
   "source": [
    "-- from parent table I got the value of Duration=166, updating the empty field with correct value and changing the datatype to int"
   ]
  },
  {
   "cell_type": "code",
   "execution_count": 18,
   "metadata": {},
   "outputs": [
    {
     "name": "stdout",
     "output_type": "stream",
     "text": [
      "<class 'pandas.core.frame.DataFrame'>\n",
      "RangeIndex: 18 entries, 0 to 17\n",
      "Data columns (total 14 columns):\n",
      " #   Column              Non-Null Count  Dtype  \n",
      "---  ------              --------------  -----  \n",
      " 0   index               18 non-null     int64  \n",
      " 1   MovieID             18 non-null     object \n",
      " 2   Title               18 non-null     object \n",
      " 3   Director            18 non-null     object \n",
      " 4   Genre               18 non-null     object \n",
      " 5   ReleaseYear         18 non-null     int64  \n",
      " 6   Budget (Crores)     18 non-null     float64\n",
      " 7   BoxOffice (Crores)  18 non-null     float64\n",
      " 8   Rating              18 non-null     float64\n",
      " 9   Duration (minutes)  18 non-null     int64  \n",
      " 10  LeadActor           18 non-null     object \n",
      " 11  LeadActress         18 non-null     object \n",
      " 12  Language            18 non-null     object \n",
      " 13  ProductionCompany   18 non-null     object \n",
      "dtypes: float64(3), int64(3), object(8)\n",
      "memory usage: 2.1+ KB\n"
     ]
    }
   ],
   "source": [
    "df['Duration (minutes)']=df['Duration (minutes)'].fillna(166).astype(int)\n",
    "df.info()"
   ]
  },
  {
   "cell_type": "markdown",
   "metadata": {},
   "source": [
    "-- Since there are no more missing values or inconsistent datatype in our dataframe, the file is clean."
   ]
  },
  {
   "cell_type": "markdown",
   "metadata": {},
   "source": [
    "-- now store the cleaned data in an excel file"
   ]
  },
  {
   "cell_type": "code",
   "execution_count": 19,
   "metadata": {},
   "outputs": [],
   "source": [
    "df.to_excel('indian_movies.xlsx', index=False)"
   ]
  }
 ],
 "metadata": {
  "kernelspec": {
   "display_name": "Python 3",
   "language": "python",
   "name": "python3"
  },
  "language_info": {
   "codemirror_mode": {
    "name": "ipython",
    "version": 3
   },
   "file_extension": ".py",
   "mimetype": "text/x-python",
   "name": "python",
   "nbconvert_exporter": "python",
   "pygments_lexer": "ipython3",
   "version": "3.10.12"
  }
 },
 "nbformat": 4,
 "nbformat_minor": 2
}
