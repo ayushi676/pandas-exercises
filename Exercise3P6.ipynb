{
 "cells": [
  {
   "cell_type": "markdown",
   "metadata": {},
   "source": [
    "P6> Find out how many hotels are there in each Locality"
   ]
  },
  {
   "cell_type": "markdown",
   "metadata": {},
   "source": [
    "-- initial steps to load data\n"
   ]
  },
  {
   "cell_type": "code",
   "execution_count": 1,
   "metadata": {},
   "outputs": [
    {
     "data": {
      "text/html": [
       "<div>\n",
       "<style scoped>\n",
       "    .dataframe tbody tr th:only-of-type {\n",
       "        vertical-align: middle;\n",
       "    }\n",
       "\n",
       "    .dataframe tbody tr th {\n",
       "        vertical-align: top;\n",
       "    }\n",
       "\n",
       "    .dataframe thead th {\n",
       "        text-align: right;\n",
       "    }\n",
       "</style>\n",
       "<table border=\"1\" class=\"dataframe\">\n",
       "  <thead>\n",
       "    <tr style=\"text-align: right;\">\n",
       "      <th></th>\n",
       "      <th>ID</th>\n",
       "      <th>City</th>\n",
       "      <th>Location</th>\n",
       "      <th>PType</th>\n",
       "      <th>PPN</th>\n",
       "      <th>Nights</th>\n",
       "      <th>Beds</th>\n",
       "      <th>Baths</th>\n",
       "      <th>Reviews</th>\n",
       "      <th>Recent</th>\n",
       "    </tr>\n",
       "  </thead>\n",
       "  <tbody>\n",
       "    <tr>\n",
       "      <th>0</th>\n",
       "      <td>IND137</td>\n",
       "      <td>Mumbai</td>\n",
       "      <td>Unknown</td>\n",
       "      <td>Entire Home/Apartment</td>\n",
       "      <td>3200</td>\n",
       "      <td>2.000000</td>\n",
       "      <td>1</td>\n",
       "      <td>1</td>\n",
       "      <td>4.000000</td>\n",
       "      <td>2022-03-12</td>\n",
       "    </tr>\n",
       "    <tr>\n",
       "      <th>1</th>\n",
       "      <td>IND138</td>\n",
       "      <td>Bangalore</td>\n",
       "      <td>Indiranagar</td>\n",
       "      <td>Private Room</td>\n",
       "      <td>1800</td>\n",
       "      <td>1.959184</td>\n",
       "      <td>1</td>\n",
       "      <td>1</td>\n",
       "      <td>2.000000</td>\n",
       "      <td>2023-02-15</td>\n",
       "    </tr>\n",
       "    <tr>\n",
       "      <th>2</th>\n",
       "      <td>IND139</td>\n",
       "      <td>Delhi</td>\n",
       "      <td>Hauz Khas</td>\n",
       "      <td>Entire Home/Apartment</td>\n",
       "      <td>4200</td>\n",
       "      <td>3.000000</td>\n",
       "      <td>2</td>\n",
       "      <td>2</td>\n",
       "      <td>3.853659</td>\n",
       "      <td>2021-12-25</td>\n",
       "    </tr>\n",
       "    <tr>\n",
       "      <th>3</th>\n",
       "      <td>IND140</td>\n",
       "      <td>Chennai</td>\n",
       "      <td>Teynampet</td>\n",
       "      <td>Shared Room</td>\n",
       "      <td>1000</td>\n",
       "      <td>1.000000</td>\n",
       "      <td>2</td>\n",
       "      <td>1</td>\n",
       "      <td>1.000000</td>\n",
       "      <td>2022-05-05</td>\n",
       "    </tr>\n",
       "    <tr>\n",
       "      <th>4</th>\n",
       "      <td>IND141</td>\n",
       "      <td>Hyderabad</td>\n",
       "      <td>Jubilee Hills</td>\n",
       "      <td>Entire Home/Apartment</td>\n",
       "      <td>3800</td>\n",
       "      <td>3.000000</td>\n",
       "      <td>3</td>\n",
       "      <td>3</td>\n",
       "      <td>5.000000</td>\n",
       "      <td>2022-08-20</td>\n",
       "    </tr>\n",
       "  </tbody>\n",
       "</table>\n",
       "</div>"
      ],
      "text/plain": [
       "       ID       City      Location                   PType   PPN    Nights  \\\n",
       "0  IND137     Mumbai        Unknown  Entire Home/Apartment  3200  2.000000   \n",
       "1  IND138  Bangalore    Indiranagar           Private Room  1800  1.959184   \n",
       "2  IND139      Delhi      Hauz Khas  Entire Home/Apartment  4200  3.000000   \n",
       "3  IND140    Chennai      Teynampet            Shared Room  1000  1.000000   \n",
       "4  IND141  Hyderabad  Jubilee Hills  Entire Home/Apartment  3800  3.000000   \n",
       "\n",
       "   Beds  Baths   Reviews      Recent  \n",
       "0     1      1  4.000000  2022-03-12  \n",
       "1     1      1  2.000000  2023-02-15  \n",
       "2     2      2  3.853659  2021-12-25  \n",
       "3     2      1  1.000000  2022-05-05  \n",
       "4     3      3  5.000000  2022-08-20  "
      ]
     },
     "execution_count": 1,
     "metadata": {},
     "output_type": "execute_result"
    }
   ],
   "source": [
    "import pandas as pd\n",
    "df = pd.read_excel(\"cleaned_data.xlsx\")\n",
    "df = df.loc[:, ~df.columns.str.contains('^Unnamed')]\n",
    "df.head()"
   ]
  },
  {
   "cell_type": "markdown",
   "metadata": {},
   "source": [
    "-- Count No. of IDs grouping the rows by Locality(Location in our data)"
   ]
  },
  {
   "cell_type": "code",
   "execution_count": 2,
   "metadata": {},
   "outputs": [
    {
     "data": {
      "text/plain": [
       "Location \n",
       "Adyar                      1\n",
       "Aerocity                   1\n",
       "Andheri                    1\n",
       "Anna Nagar                 1\n",
       "BKC                        1\n",
       "Baranagar                  1\n",
       "Bavdhan                    1\n",
       "Camac Street               1\n",
       "Colaba                     1\n",
       "Dilshad Garden             1\n",
       "Dwarka                     1\n",
       "Egmore                     1\n",
       "Electronic City            1\n",
       "Electronic City Phase 2    1\n",
       "Gachibowli                 1\n",
       "Ghatkopar                  1\n",
       "Guindy                     1\n",
       "HSR Layout                 1\n",
       "Hadapsar                   1\n",
       "Hauz Khas                  1\n",
       "Indiranagar                1\n",
       "Jay Nagar                  1\n",
       "Jubilee Hills              1\n",
       "Kondapur                   1\n",
       "Koramangala                1\n",
       "Koregaon Park              1\n",
       "Kukatpally                 1\n",
       "Lake Town                  1\n",
       "MG Road                    1\n",
       "Manikonda                  1\n",
       "Marathahalli               1\n",
       "Nariman Point              1\n",
       "New Town                   1\n",
       "Park Street                1\n",
       "Pitampura                  1\n",
       "Powai                      1\n",
       "Rohini                     1\n",
       "Saket                      1\n",
       "Salt Lake                  1\n",
       "Santacruz                  1\n",
       "Secunderabad               1\n",
       "Shivaji Nagar              1\n",
       "Tambaram                   1\n",
       "Teynampet                  1\n",
       "Thiruvanmiyur              1\n",
       "Unknown                    2\n",
       "Velachery                  1\n",
       "Wagholi                    1\n",
       "Worli                      1\n",
       "Name: ID, dtype: int64"
      ]
     },
     "execution_count": 2,
     "metadata": {},
     "output_type": "execute_result"
    }
   ],
   "source": [
    "df_pvt=df.groupby(\"Location \")['ID'].count()\n",
    "df_pvt"
   ]
  },
  {
   "cell_type": "code",
   "execution_count": 8,
   "metadata": {},
   "outputs": [
    {
     "data": {
      "text/plain": [
       "<Axes: ylabel='Location '>"
      ]
     },
     "execution_count": 8,
     "metadata": {},
     "output_type": "execute_result"
    },
    {
     "data": {
      "image/png": "[encoded data removed]",
      "text/plain": [
       "<Figure size 640x480 with 1 Axes>"
      ]
     },
     "metadata": {},
     "output_type": "display_data"
    }
   ],
   "source": [
    "df_pvt.head().plot(kind='barh')"
   ]
  },
  {
   "cell_type": "markdown",
   "metadata": {},
   "source": [
    "-- INSIGHTS AND OBSERVATIONS\n",
    "\n",
    "- We are receiving data from many different places, which gives us a good mix of locations.\n",
    "\n",
    "- Almost every place in our data has at least one hotel, providing travelers with more options and potentially better prices.\n",
    "\n",
    "- With at least one hotel in each location, there is healthy competition. Hotels will try to attract guests by offering better services and deals.\n",
    "\n",
    "- Currently, there is only one hotel per location in the data, which may indicate opportunities for new hotels to open if demand increases.\n",
    "\n",
    "- There are two \"Unknown\" locations in the data that need to be updated. We need to update Locality for two hotels in our data"
   ]
  }
 ],
 "metadata": {
  "kernelspec": {
   "display_name": "Python 3",
   "language": "python",
   "name": "python3"
  },
  "language_info": {
   "codemirror_mode": {
    "name": "ipython",
    "version": 3
   },
   "file_extension": ".py",
   "mimetype": "text/x-python",
   "name": "python",
   "nbconvert_exporter": "python",
   "pygments_lexer": "ipython3",
   "version": "3.10.12"
  }
 },
 "nbformat": 4,
 "nbformat_minor": 2
}
