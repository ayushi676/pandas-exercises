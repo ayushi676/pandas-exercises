{
 "cells": [
  {
   "cell_type": "markdown",
   "metadata": {},
   "source": [
    "step1- import pandas\n"
   ]
  },
  {
   "cell_type": "code",
   "execution_count": 1,
   "metadata": {},
   "outputs": [],
   "source": [
    "import pandas as pd"
   ]
  },
  {
   "cell_type": "markdown",
   "metadata": {},
   "source": [
    "step-2: use updated sales file for analysis"
   ]
  },
  {
   "cell_type": "code",
   "execution_count": 2,
   "metadata": {},
   "outputs": [
    {
     "data": {
      "text/plain": [
       "'sales_updated.csv'"
      ]
     },
     "execution_count": 2,
     "metadata": {},
     "output_type": "execute_result"
    }
   ],
   "source": [
    "filename=\"sales_updated.csv\"\n",
    "path=f'{filename}'\n",
    "df=pd.read_csv(path)\n",
    "path"
   ]
  },
  {
   "cell_type": "code",
   "execution_count": 3,
   "metadata": {},
   "outputs": [
    {
     "data": {
      "text/html": [
       "<div>\n",
       "<style scoped>\n",
       "    .dataframe tbody tr th:only-of-type {\n",
       "        vertical-align: middle;\n",
       "    }\n",
       "\n",
       "    .dataframe tbody tr th {\n",
       "        vertical-align: top;\n",
       "    }\n",
       "\n",
       "    .dataframe thead th {\n",
       "        text-align: right;\n",
       "    }\n",
       "</style>\n",
       "<table border=\"1\" class=\"dataframe\">\n",
       "  <thead>\n",
       "    <tr style=\"text-align: right;\">\n",
       "      <th></th>\n",
       "      <th>Date</th>\n",
       "      <th>Region</th>\n",
       "      <th>Product</th>\n",
       "      <th>Amount</th>\n",
       "      <th>Customer ID</th>\n",
       "    </tr>\n",
       "  </thead>\n",
       "  <tbody>\n",
       "    <tr>\n",
       "      <th>0</th>\n",
       "      <td>2024-01-07</td>\n",
       "      <td>North</td>\n",
       "      <td>D1-Shirt</td>\n",
       "      <td>1000.0</td>\n",
       "      <td>C001</td>\n",
       "    </tr>\n",
       "    <tr>\n",
       "      <th>1</th>\n",
       "      <td>15/01/2024</td>\n",
       "      <td>EAst</td>\n",
       "      <td>G2-Blazers</td>\n",
       "      <td>1200.0</td>\n",
       "      <td>C004</td>\n",
       "    </tr>\n",
       "    <tr>\n",
       "      <th>2</th>\n",
       "      <td>24/2/20</td>\n",
       "      <td>SOUTH</td>\n",
       "      <td>K3-Trousers</td>\n",
       "      <td>1500.0</td>\n",
       "      <td>C003</td>\n",
       "    </tr>\n",
       "    <tr>\n",
       "      <th>3</th>\n",
       "      <td>2024-02-13</td>\n",
       "      <td>West</td>\n",
       "      <td>D1Shirt</td>\n",
       "      <td>2000.0</td>\n",
       "      <td>C002</td>\n",
       "    </tr>\n",
       "    <tr>\n",
       "      <th>4</th>\n",
       "      <td>2024-03-19</td>\n",
       "      <td>South</td>\n",
       "      <td>D1-Shirt</td>\n",
       "      <td>NaN</td>\n",
       "      <td>C003</td>\n",
       "    </tr>\n",
       "    <tr>\n",
       "      <th>5</th>\n",
       "      <td>13/3/24</td>\n",
       "      <td>NaN</td>\n",
       "      <td>G2-Blazers</td>\n",
       "      <td>1800.0</td>\n",
       "      <td>C001</td>\n",
       "    </tr>\n",
       "    <tr>\n",
       "      <th>6</th>\n",
       "      <td>2024-04-03</td>\n",
       "      <td>South</td>\n",
       "      <td>K3-Trousers</td>\n",
       "      <td>NaN</td>\n",
       "      <td>C002</td>\n",
       "    </tr>\n",
       "    <tr>\n",
       "      <th>7</th>\n",
       "      <td>21/04/2024</td>\n",
       "      <td>East</td>\n",
       "      <td>G2-Blazers</td>\n",
       "      <td>2500.0</td>\n",
       "      <td>C004</td>\n",
       "    </tr>\n",
       "    <tr>\n",
       "      <th>8</th>\n",
       "      <td>2024-05-15</td>\n",
       "      <td>West</td>\n",
       "      <td>K3-Trousers</td>\n",
       "      <td>1500.0</td>\n",
       "      <td>C001</td>\n",
       "    </tr>\n",
       "    <tr>\n",
       "      <th>9</th>\n",
       "      <td>27/5/24</td>\n",
       "      <td>North</td>\n",
       "      <td>K3-Trousers</td>\n",
       "      <td>1500.0</td>\n",
       "      <td>C004</td>\n",
       "    </tr>\n",
       "    <tr>\n",
       "      <th>10</th>\n",
       "      <td>2024-06-16</td>\n",
       "      <td>South</td>\n",
       "      <td>D1-Shirt</td>\n",
       "      <td>3000.0</td>\n",
       "      <td>C003</td>\n",
       "    </tr>\n",
       "    <tr>\n",
       "      <th>11</th>\n",
       "      <td>2024-06-24</td>\n",
       "      <td>East</td>\n",
       "      <td>g2-Blazers</td>\n",
       "      <td>2000.0</td>\n",
       "      <td>C002</td>\n",
       "    </tr>\n",
       "  </tbody>\n",
       "</table>\n",
       "</div>"
      ],
      "text/plain": [
       "          Date Region      Product  Amount Customer ID\n",
       "0   2024-01-07  North     D1-Shirt  1000.0        C001\n",
       "1   15/01/2024   EAst   G2-Blazers  1200.0        C004\n",
       "2      24/2/20  SOUTH  K3-Trousers  1500.0        C003\n",
       "3   2024-02-13  West       D1Shirt  2000.0        C002\n",
       "4   2024-03-19  South     D1-Shirt     NaN        C003\n",
       "5      13/3/24    NaN   G2-Blazers  1800.0        C001\n",
       "6   2024-04-03  South  K3-Trousers     NaN        C002\n",
       "7   21/04/2024   East   G2-Blazers  2500.0        C004\n",
       "8   2024-05-15   West  K3-Trousers  1500.0        C001\n",
       "9      27/5/24  North  K3-Trousers  1500.0        C004\n",
       "10  2024-06-16  South     D1-Shirt  3000.0        C003\n",
       "11  2024-06-24   East   g2-Blazers  2000.0        C002"
      ]
     },
     "execution_count": 3,
     "metadata": {},
     "output_type": "execute_result"
    }
   ],
   "source": [
    "df"
   ]
  },
  {
   "cell_type": "markdown",
   "metadata": {},
   "source": [
    "- Rules for Region column\n",
    "\n",
    "        - All Region entries should be in title case\n",
    "        - Blazers are only sold in one Region\n",
    "\n",
    "- Find the anomalies in Region column based on the above Rules\n"
   ]
  },
  {
   "cell_type": "code",
   "execution_count": 4,
   "metadata": {},
   "outputs": [
    {
     "data": {
      "text/html": [
       "<div>\n",
       "<style scoped>\n",
       "    .dataframe tbody tr th:only-of-type {\n",
       "        vertical-align: middle;\n",
       "    }\n",
       "\n",
       "    .dataframe tbody tr th {\n",
       "        vertical-align: top;\n",
       "    }\n",
       "\n",
       "    .dataframe thead th {\n",
       "        text-align: right;\n",
       "    }\n",
       "</style>\n",
       "<table border=\"1\" class=\"dataframe\">\n",
       "  <thead>\n",
       "    <tr style=\"text-align: right;\">\n",
       "      <th></th>\n",
       "      <th>Date</th>\n",
       "      <th>Region</th>\n",
       "      <th>Product</th>\n",
       "      <th>Amount</th>\n",
       "      <th>Customer ID</th>\n",
       "    </tr>\n",
       "  </thead>\n",
       "  <tbody>\n",
       "    <tr>\n",
       "      <th>0</th>\n",
       "      <td>2024-01-07</td>\n",
       "      <td>North</td>\n",
       "      <td>D1-Shirt</td>\n",
       "      <td>1000.0</td>\n",
       "      <td>C001</td>\n",
       "    </tr>\n",
       "    <tr>\n",
       "      <th>1</th>\n",
       "      <td>15/01/2024</td>\n",
       "      <td>East</td>\n",
       "      <td>G2-Blazers</td>\n",
       "      <td>1200.0</td>\n",
       "      <td>C004</td>\n",
       "    </tr>\n",
       "    <tr>\n",
       "      <th>2</th>\n",
       "      <td>24/2/20</td>\n",
       "      <td>South</td>\n",
       "      <td>K3-Trousers</td>\n",
       "      <td>1500.0</td>\n",
       "      <td>C003</td>\n",
       "    </tr>\n",
       "    <tr>\n",
       "      <th>3</th>\n",
       "      <td>2024-02-13</td>\n",
       "      <td>West</td>\n",
       "      <td>D1Shirt</td>\n",
       "      <td>2000.0</td>\n",
       "      <td>C002</td>\n",
       "    </tr>\n",
       "    <tr>\n",
       "      <th>4</th>\n",
       "      <td>2024-03-19</td>\n",
       "      <td>South</td>\n",
       "      <td>D1-Shirt</td>\n",
       "      <td>NaN</td>\n",
       "      <td>C003</td>\n",
       "    </tr>\n",
       "    <tr>\n",
       "      <th>5</th>\n",
       "      <td>13/3/24</td>\n",
       "      <td>NaN</td>\n",
       "      <td>G2-Blazers</td>\n",
       "      <td>1800.0</td>\n",
       "      <td>C001</td>\n",
       "    </tr>\n",
       "    <tr>\n",
       "      <th>6</th>\n",
       "      <td>2024-04-03</td>\n",
       "      <td>South</td>\n",
       "      <td>K3-Trousers</td>\n",
       "      <td>NaN</td>\n",
       "      <td>C002</td>\n",
       "    </tr>\n",
       "    <tr>\n",
       "      <th>7</th>\n",
       "      <td>21/04/2024</td>\n",
       "      <td>East</td>\n",
       "      <td>G2-Blazers</td>\n",
       "      <td>2500.0</td>\n",
       "      <td>C004</td>\n",
       "    </tr>\n",
       "    <tr>\n",
       "      <th>8</th>\n",
       "      <td>2024-05-15</td>\n",
       "      <td>West</td>\n",
       "      <td>K3-Trousers</td>\n",
       "      <td>1500.0</td>\n",
       "      <td>C001</td>\n",
       "    </tr>\n",
       "    <tr>\n",
       "      <th>9</th>\n",
       "      <td>27/5/24</td>\n",
       "      <td>North</td>\n",
       "      <td>K3-Trousers</td>\n",
       "      <td>1500.0</td>\n",
       "      <td>C004</td>\n",
       "    </tr>\n",
       "    <tr>\n",
       "      <th>10</th>\n",
       "      <td>2024-06-16</td>\n",
       "      <td>South</td>\n",
       "      <td>D1-Shirt</td>\n",
       "      <td>3000.0</td>\n",
       "      <td>C003</td>\n",
       "    </tr>\n",
       "    <tr>\n",
       "      <th>11</th>\n",
       "      <td>2024-06-24</td>\n",
       "      <td>East</td>\n",
       "      <td>g2-Blazers</td>\n",
       "      <td>2000.0</td>\n",
       "      <td>C002</td>\n",
       "    </tr>\n",
       "  </tbody>\n",
       "</table>\n",
       "</div>"
      ],
      "text/plain": [
       "          Date Region      Product  Amount Customer ID\n",
       "0   2024-01-07  North     D1-Shirt  1000.0        C001\n",
       "1   15/01/2024   East   G2-Blazers  1200.0        C004\n",
       "2      24/2/20  South  K3-Trousers  1500.0        C003\n",
       "3   2024-02-13  West       D1Shirt  2000.0        C002\n",
       "4   2024-03-19  South     D1-Shirt     NaN        C003\n",
       "5      13/3/24    NaN   G2-Blazers  1800.0        C001\n",
       "6   2024-04-03  South  K3-Trousers     NaN        C002\n",
       "7   21/04/2024   East   G2-Blazers  2500.0        C004\n",
       "8   2024-05-15   West  K3-Trousers  1500.0        C001\n",
       "9      27/5/24  North  K3-Trousers  1500.0        C004\n",
       "10  2024-06-16  South     D1-Shirt  3000.0        C003\n",
       "11  2024-06-24   East   g2-Blazers  2000.0        C002"
      ]
     },
     "execution_count": 4,
     "metadata": {},
     "output_type": "execute_result"
    }
   ],
   "source": [
    "        # - All Region entries should be in title case\n",
    "df['Region']=df['Region'].str.title()\n",
    "df"
   ]
  },
  {
   "cell_type": "markdown",
   "metadata": {},
   "source": [
    "Since Blazers are only sold in one region we can assume from data rows where region is NaN should be South and fill those values in Region column with 'South'"
   ]
  },
  {
   "cell_type": "code",
   "execution_count": 5,
   "metadata": {},
   "outputs": [
    {
     "data": {
      "text/html": [
       "<div>\n",
       "<style scoped>\n",
       "    .dataframe tbody tr th:only-of-type {\n",
       "        vertical-align: middle;\n",
       "    }\n",
       "\n",
       "    .dataframe tbody tr th {\n",
       "        vertical-align: top;\n",
       "    }\n",
       "\n",
       "    .dataframe thead th {\n",
       "        text-align: right;\n",
       "    }\n",
       "</style>\n",
       "<table border=\"1\" class=\"dataframe\">\n",
       "  <thead>\n",
       "    <tr style=\"text-align: right;\">\n",
       "      <th></th>\n",
       "      <th>Date</th>\n",
       "      <th>Region</th>\n",
       "      <th>Product</th>\n",
       "      <th>Amount</th>\n",
       "      <th>Customer ID</th>\n",
       "    </tr>\n",
       "  </thead>\n",
       "  <tbody>\n",
       "    <tr>\n",
       "      <th>0</th>\n",
       "      <td>2024-01-07</td>\n",
       "      <td>North</td>\n",
       "      <td>D1-Shirt</td>\n",
       "      <td>1000.0</td>\n",
       "      <td>C001</td>\n",
       "    </tr>\n",
       "    <tr>\n",
       "      <th>1</th>\n",
       "      <td>15/01/2024</td>\n",
       "      <td>East</td>\n",
       "      <td>G2-Blazers</td>\n",
       "      <td>1200.0</td>\n",
       "      <td>C004</td>\n",
       "    </tr>\n",
       "    <tr>\n",
       "      <th>2</th>\n",
       "      <td>24/2/20</td>\n",
       "      <td>South</td>\n",
       "      <td>K3-Trousers</td>\n",
       "      <td>1500.0</td>\n",
       "      <td>C003</td>\n",
       "    </tr>\n",
       "    <tr>\n",
       "      <th>3</th>\n",
       "      <td>2024-02-13</td>\n",
       "      <td>West</td>\n",
       "      <td>D1Shirt</td>\n",
       "      <td>2000.0</td>\n",
       "      <td>C002</td>\n",
       "    </tr>\n",
       "    <tr>\n",
       "      <th>4</th>\n",
       "      <td>2024-03-19</td>\n",
       "      <td>South</td>\n",
       "      <td>D1-Shirt</td>\n",
       "      <td>NaN</td>\n",
       "      <td>C003</td>\n",
       "    </tr>\n",
       "    <tr>\n",
       "      <th>5</th>\n",
       "      <td>13/3/24</td>\n",
       "      <td>South</td>\n",
       "      <td>G2-Blazers</td>\n",
       "      <td>1800.0</td>\n",
       "      <td>C001</td>\n",
       "    </tr>\n",
       "    <tr>\n",
       "      <th>6</th>\n",
       "      <td>2024-04-03</td>\n",
       "      <td>South</td>\n",
       "      <td>K3-Trousers</td>\n",
       "      <td>NaN</td>\n",
       "      <td>C002</td>\n",
       "    </tr>\n",
       "    <tr>\n",
       "      <th>7</th>\n",
       "      <td>21/04/2024</td>\n",
       "      <td>East</td>\n",
       "      <td>G2-Blazers</td>\n",
       "      <td>2500.0</td>\n",
       "      <td>C004</td>\n",
       "    </tr>\n",
       "    <tr>\n",
       "      <th>8</th>\n",
       "      <td>2024-05-15</td>\n",
       "      <td>West</td>\n",
       "      <td>K3-Trousers</td>\n",
       "      <td>1500.0</td>\n",
       "      <td>C001</td>\n",
       "    </tr>\n",
       "    <tr>\n",
       "      <th>9</th>\n",
       "      <td>27/5/24</td>\n",
       "      <td>North</td>\n",
       "      <td>K3-Trousers</td>\n",
       "      <td>1500.0</td>\n",
       "      <td>C004</td>\n",
       "    </tr>\n",
       "    <tr>\n",
       "      <th>10</th>\n",
       "      <td>2024-06-16</td>\n",
       "      <td>South</td>\n",
       "      <td>D1-Shirt</td>\n",
       "      <td>3000.0</td>\n",
       "      <td>C003</td>\n",
       "    </tr>\n",
       "    <tr>\n",
       "      <th>11</th>\n",
       "      <td>2024-06-24</td>\n",
       "      <td>East</td>\n",
       "      <td>g2-Blazers</td>\n",
       "      <td>2000.0</td>\n",
       "      <td>C002</td>\n",
       "    </tr>\n",
       "  </tbody>\n",
       "</table>\n",
       "</div>"
      ],
      "text/plain": [
       "          Date Region      Product  Amount Customer ID\n",
       "0   2024-01-07  North     D1-Shirt  1000.0        C001\n",
       "1   15/01/2024   East   G2-Blazers  1200.0        C004\n",
       "2      24/2/20  South  K3-Trousers  1500.0        C003\n",
       "3   2024-02-13  West       D1Shirt  2000.0        C002\n",
       "4   2024-03-19  South     D1-Shirt     NaN        C003\n",
       "5      13/3/24  South   G2-Blazers  1800.0        C001\n",
       "6   2024-04-03  South  K3-Trousers     NaN        C002\n",
       "7   21/04/2024   East   G2-Blazers  2500.0        C004\n",
       "8   2024-05-15   West  K3-Trousers  1500.0        C001\n",
       "9      27/5/24  North  K3-Trousers  1500.0        C004\n",
       "10  2024-06-16  South     D1-Shirt  3000.0        C003\n",
       "11  2024-06-24   East   g2-Blazers  2000.0        C002"
      ]
     },
     "execution_count": 5,
     "metadata": {},
     "output_type": "execute_result"
    }
   ],
   "source": [
    "df['Region']=df['Region'].fillna('South')\n",
    "df"
   ]
  },
  {
   "cell_type": "markdown",
   "metadata": {},
   "source": [
    "-- ensuring if Region has 12 non-null fields"
   ]
  },
  {
   "cell_type": "code",
   "execution_count": 6,
   "metadata": {},
   "outputs": [
    {
     "name": "stdout",
     "output_type": "stream",
     "text": [
      "<class 'pandas.core.frame.DataFrame'>\n",
      "RangeIndex: 12 entries, 0 to 11\n",
      "Data columns (total 5 columns):\n",
      " #   Column       Non-Null Count  Dtype  \n",
      "---  ------       --------------  -----  \n",
      " 0   Date         12 non-null     object \n",
      " 1   Region       12 non-null     object \n",
      " 2   Product      12 non-null     object \n",
      " 3   Amount       10 non-null     float64\n",
      " 4   Customer ID  12 non-null     object \n",
      "dtypes: float64(1), object(4)\n",
      "memory usage: 608.0+ bytes\n"
     ]
    }
   ],
   "source": [
    "df.info()"
   ]
  },
  {
   "cell_type": "markdown",
   "metadata": {},
   "source": [
    "-- Checking date values to find anomalies"
   ]
  },
  {
   "cell_type": "code",
   "execution_count": 7,
   "metadata": {},
   "outputs": [
    {
     "data": {
      "text/plain": [
       "0     2024-01-07\n",
       "1     15/01/2024\n",
       "2        24/2/20\n",
       "3     2024-02-13\n",
       "4     2024-03-19\n",
       "5        13/3/24\n",
       "6     2024-04-03\n",
       "7     21/04/2024\n",
       "8     2024-05-15\n",
       "9        27/5/24\n",
       "10    2024-06-16\n",
       "11    2024-06-24\n",
       "Name: Date, dtype: object"
      ]
     },
     "execution_count": 7,
     "metadata": {},
     "output_type": "execute_result"
    }
   ],
   "source": [
    "df.Date"
   ]
  },
  {
   "cell_type": "markdown",
   "metadata": {},
   "source": [
    "-- creating a function for applying through Date column to identify and format Date values in each row to a standard format"
   ]
  },
  {
   "cell_type": "code",
   "execution_count": 8,
   "metadata": {},
   "outputs": [],
   "source": [
    "\n",
    "def fix_dates(date_str):\n",
    "    if isinstance(date_str, str):\n",
    "        if date_str.count('/') == 2:\n",
    "            date_parts = date_str.split('/')\n",
    "            \n",
    "            if len(date_parts[2]) == 4:\n",
    "                date_str = '-'.join([date_parts[2], date_parts[1], date_parts[0]])\n",
    "            else:\n",
    "                date_str = '-'.join([str(2000 + int(date_parts[2])), date_parts[1], date_parts[0]])\n",
    "            \n",
    "            date_str = pd.to_datetime(date_str).strftime('%Y-%m-%d')\n",
    "    \n",
    "    return date_str\n",
    "\n"
   ]
  },
  {
   "cell_type": "markdown",
   "metadata": {},
   "source": [
    "--apply fix_dates to Date column"
   ]
  },
  {
   "cell_type": "code",
   "execution_count": 9,
   "metadata": {},
   "outputs": [
    {
     "data": {
      "text/plain": [
       "0     2024-01-07\n",
       "1     2024-01-15\n",
       "2     2020-02-24\n",
       "3     2024-02-13\n",
       "4     2024-03-19\n",
       "5     2024-03-13\n",
       "6     2024-04-03\n",
       "7     2024-04-21\n",
       "8     2024-05-15\n",
       "9     2024-05-27\n",
       "10    2024-06-16\n",
       "11    2024-06-24\n",
       "Name: Date, dtype: object"
      ]
     },
     "execution_count": 9,
     "metadata": {},
     "output_type": "execute_result"
    }
   ],
   "source": [
    "df['Date'].apply(fix_dates)"
   ]
  },
  {
   "cell_type": "markdown",
   "metadata": {},
   "source": [
    "Add Updated Values to date column"
   ]
  },
  {
   "cell_type": "code",
   "execution_count": 10,
   "metadata": {},
   "outputs": [
    {
     "data": {
      "text/html": [
       "<div>\n",
       "<style scoped>\n",
       "    .dataframe tbody tr th:only-of-type {\n",
       "        vertical-align: middle;\n",
       "    }\n",
       "\n",
       "    .dataframe tbody tr th {\n",
       "        vertical-align: top;\n",
       "    }\n",
       "\n",
       "    .dataframe thead th {\n",
       "        text-align: right;\n",
       "    }\n",
       "</style>\n",
       "<table border=\"1\" class=\"dataframe\">\n",
       "  <thead>\n",
       "    <tr style=\"text-align: right;\">\n",
       "      <th></th>\n",
       "      <th>Date</th>\n",
       "      <th>Region</th>\n",
       "      <th>Product</th>\n",
       "      <th>Amount</th>\n",
       "      <th>Customer ID</th>\n",
       "    </tr>\n",
       "  </thead>\n",
       "  <tbody>\n",
       "    <tr>\n",
       "      <th>0</th>\n",
       "      <td>2024-01-07</td>\n",
       "      <td>North</td>\n",
       "      <td>D1-Shirt</td>\n",
       "      <td>1000.0</td>\n",
       "      <td>C001</td>\n",
       "    </tr>\n",
       "    <tr>\n",
       "      <th>1</th>\n",
       "      <td>2024-01-15</td>\n",
       "      <td>East</td>\n",
       "      <td>G2-Blazers</td>\n",
       "      <td>1200.0</td>\n",
       "      <td>C004</td>\n",
       "    </tr>\n",
       "    <tr>\n",
       "      <th>2</th>\n",
       "      <td>2020-02-24</td>\n",
       "      <td>South</td>\n",
       "      <td>K3-Trousers</td>\n",
       "      <td>1500.0</td>\n",
       "      <td>C003</td>\n",
       "    </tr>\n",
       "    <tr>\n",
       "      <th>3</th>\n",
       "      <td>2024-02-13</td>\n",
       "      <td>West</td>\n",
       "      <td>D1Shirt</td>\n",
       "      <td>2000.0</td>\n",
       "      <td>C002</td>\n",
       "    </tr>\n",
       "    <tr>\n",
       "      <th>4</th>\n",
       "      <td>2024-03-19</td>\n",
       "      <td>South</td>\n",
       "      <td>D1-Shirt</td>\n",
       "      <td>NaN</td>\n",
       "      <td>C003</td>\n",
       "    </tr>\n",
       "    <tr>\n",
       "      <th>5</th>\n",
       "      <td>2024-03-13</td>\n",
       "      <td>South</td>\n",
       "      <td>G2-Blazers</td>\n",
       "      <td>1800.0</td>\n",
       "      <td>C001</td>\n",
       "    </tr>\n",
       "    <tr>\n",
       "      <th>6</th>\n",
       "      <td>2024-04-03</td>\n",
       "      <td>South</td>\n",
       "      <td>K3-Trousers</td>\n",
       "      <td>NaN</td>\n",
       "      <td>C002</td>\n",
       "    </tr>\n",
       "    <tr>\n",
       "      <th>7</th>\n",
       "      <td>2024-04-21</td>\n",
       "      <td>East</td>\n",
       "      <td>G2-Blazers</td>\n",
       "      <td>2500.0</td>\n",
       "      <td>C004</td>\n",
       "    </tr>\n",
       "    <tr>\n",
       "      <th>8</th>\n",
       "      <td>2024-05-15</td>\n",
       "      <td>West</td>\n",
       "      <td>K3-Trousers</td>\n",
       "      <td>1500.0</td>\n",
       "      <td>C001</td>\n",
       "    </tr>\n",
       "    <tr>\n",
       "      <th>9</th>\n",
       "      <td>2024-05-27</td>\n",
       "      <td>North</td>\n",
       "      <td>K3-Trousers</td>\n",
       "      <td>1500.0</td>\n",
       "      <td>C004</td>\n",
       "    </tr>\n",
       "    <tr>\n",
       "      <th>10</th>\n",
       "      <td>2024-06-16</td>\n",
       "      <td>South</td>\n",
       "      <td>D1-Shirt</td>\n",
       "      <td>3000.0</td>\n",
       "      <td>C003</td>\n",
       "    </tr>\n",
       "    <tr>\n",
       "      <th>11</th>\n",
       "      <td>2024-06-24</td>\n",
       "      <td>East</td>\n",
       "      <td>g2-Blazers</td>\n",
       "      <td>2000.0</td>\n",
       "      <td>C002</td>\n",
       "    </tr>\n",
       "  </tbody>\n",
       "</table>\n",
       "</div>"
      ],
      "text/plain": [
       "          Date Region      Product  Amount Customer ID\n",
       "0   2024-01-07  North     D1-Shirt  1000.0        C001\n",
       "1   2024-01-15   East   G2-Blazers  1200.0        C004\n",
       "2   2020-02-24  South  K3-Trousers  1500.0        C003\n",
       "3   2024-02-13  West       D1Shirt  2000.0        C002\n",
       "4   2024-03-19  South     D1-Shirt     NaN        C003\n",
       "5   2024-03-13  South   G2-Blazers  1800.0        C001\n",
       "6   2024-04-03  South  K3-Trousers     NaN        C002\n",
       "7   2024-04-21   East   G2-Blazers  2500.0        C004\n",
       "8   2024-05-15   West  K3-Trousers  1500.0        C001\n",
       "9   2024-05-27  North  K3-Trousers  1500.0        C004\n",
       "10  2024-06-16  South     D1-Shirt  3000.0        C003\n",
       "11  2024-06-24   East   g2-Blazers  2000.0        C002"
      ]
     },
     "execution_count": 10,
     "metadata": {},
     "output_type": "execute_result"
    }
   ],
   "source": [
    "df['Date']=df['Date'].apply(fix_dates)\n",
    "df"
   ]
  },
  {
   "cell_type": "markdown",
   "metadata": {},
   "source": [
    "-- modify Date column to appropriate datatype i.e datetime"
   ]
  },
  {
   "cell_type": "code",
   "execution_count": 11,
   "metadata": {},
   "outputs": [
    {
     "name": "stdout",
     "output_type": "stream",
     "text": [
      "<class 'pandas.core.frame.DataFrame'>\n",
      "RangeIndex: 12 entries, 0 to 11\n",
      "Data columns (total 5 columns):\n",
      " #   Column       Non-Null Count  Dtype         \n",
      "---  ------       --------------  -----         \n",
      " 0   Date         12 non-null     datetime64[ns]\n",
      " 1   Region       12 non-null     object        \n",
      " 2   Product      12 non-null     object        \n",
      " 3   Amount       10 non-null     float64       \n",
      " 4   Customer ID  12 non-null     object        \n",
      "dtypes: datetime64[ns](1), float64(1), object(3)\n",
      "memory usage: 608.0+ bytes\n"
     ]
    }
   ],
   "source": [
    "df['Date']=pd.to_datetime(df['Date'])\n",
    "df.info()\n"
   ]
  },
  {
   "cell_type": "markdown",
   "metadata": {},
   "source": [
    "-- For Monthly Analysis, we need a month column that contains month part of the Dates given"
   ]
  },
  {
   "cell_type": "code",
   "execution_count": 12,
   "metadata": {},
   "outputs": [
    {
     "data": {
      "text/html": [
       "<div>\n",
       "<style scoped>\n",
       "    .dataframe tbody tr th:only-of-type {\n",
       "        vertical-align: middle;\n",
       "    }\n",
       "\n",
       "    .dataframe tbody tr th {\n",
       "        vertical-align: top;\n",
       "    }\n",
       "\n",
       "    .dataframe thead th {\n",
       "        text-align: right;\n",
       "    }\n",
       "</style>\n",
       "<table border=\"1\" class=\"dataframe\">\n",
       "  <thead>\n",
       "    <tr style=\"text-align: right;\">\n",
       "      <th></th>\n",
       "      <th>Date</th>\n",
       "      <th>Region</th>\n",
       "      <th>Product</th>\n",
       "      <th>Amount</th>\n",
       "      <th>Customer ID</th>\n",
       "      <th>Month</th>\n",
       "    </tr>\n",
       "  </thead>\n",
       "  <tbody>\n",
       "    <tr>\n",
       "      <th>0</th>\n",
       "      <td>2024-01-07</td>\n",
       "      <td>North</td>\n",
       "      <td>D1-Shirt</td>\n",
       "      <td>1000.0</td>\n",
       "      <td>C001</td>\n",
       "      <td>1</td>\n",
       "    </tr>\n",
       "    <tr>\n",
       "      <th>1</th>\n",
       "      <td>2024-01-15</td>\n",
       "      <td>East</td>\n",
       "      <td>G2-Blazers</td>\n",
       "      <td>1200.0</td>\n",
       "      <td>C004</td>\n",
       "      <td>1</td>\n",
       "    </tr>\n",
       "    <tr>\n",
       "      <th>2</th>\n",
       "      <td>2020-02-24</td>\n",
       "      <td>South</td>\n",
       "      <td>K3-Trousers</td>\n",
       "      <td>1500.0</td>\n",
       "      <td>C003</td>\n",
       "      <td>2</td>\n",
       "    </tr>\n",
       "    <tr>\n",
       "      <th>3</th>\n",
       "      <td>2024-02-13</td>\n",
       "      <td>West</td>\n",
       "      <td>D1Shirt</td>\n",
       "      <td>2000.0</td>\n",
       "      <td>C002</td>\n",
       "      <td>2</td>\n",
       "    </tr>\n",
       "    <tr>\n",
       "      <th>4</th>\n",
       "      <td>2024-03-19</td>\n",
       "      <td>South</td>\n",
       "      <td>D1-Shirt</td>\n",
       "      <td>NaN</td>\n",
       "      <td>C003</td>\n",
       "      <td>3</td>\n",
       "    </tr>\n",
       "  </tbody>\n",
       "</table>\n",
       "</div>"
      ],
      "text/plain": [
       "        Date Region      Product  Amount Customer ID  Month\n",
       "0 2024-01-07  North     D1-Shirt  1000.0        C001      1\n",
       "1 2024-01-15   East   G2-Blazers  1200.0        C004      1\n",
       "2 2020-02-24  South  K3-Trousers  1500.0        C003      2\n",
       "3 2024-02-13  West       D1Shirt  2000.0        C002      2\n",
       "4 2024-03-19  South     D1-Shirt     NaN        C003      3"
      ]
     },
     "execution_count": 12,
     "metadata": {},
     "output_type": "execute_result"
    }
   ],
   "source": [
    "df['Month']=df.Date.dt.month\n",
    "df.head()"
   ]
  },
  {
   "cell_type": "markdown",
   "metadata": {},
   "source": [
    "  - Fill missing values in Amount with the average amount for that product (Bonus question)\n"
   ]
  },
  {
   "cell_type": "markdown",
   "metadata": {},
   "source": [
    "-- Check if product col has standardised values since we need it for 'group by' for mean amount over product"
   ]
  },
  {
   "cell_type": "code",
   "execution_count": 13,
   "metadata": {},
   "outputs": [
    {
     "data": {
      "text/plain": [
       "array(['D1-Shirt', 'G2-Blazers', 'K3-Trousers', 'D1Shirt', 'g2-Blazers'],\n",
       "      dtype=object)"
      ]
     },
     "execution_count": 13,
     "metadata": {},
     "output_type": "execute_result"
    }
   ],
   "source": [
    "df.Product.unique()"
   ]
  },
  {
   "cell_type": "markdown",
   "metadata": {},
   "source": [
    "-- Fixing anomalies in Product column's data"
   ]
  },
  {
   "cell_type": "code",
   "execution_count": 14,
   "metadata": {},
   "outputs": [
    {
     "data": {
      "text/plain": [
       "array(['D1-Shirt', 'G2-Blazers', 'K3-Trousers'], dtype=object)"
      ]
     },
     "execution_count": 14,
     "metadata": {},
     "output_type": "execute_result"
    }
   ],
   "source": [
    "df['Product'] = df['Product'].str.replace(r'(\\d+)([A-Za-z]+)', r'\\1-\\2', regex=True)\n",
    "df['Product'] = df['Product'].str.title() \n",
    "df.Product.unique()"
   ]
  },
  {
   "cell_type": "markdown",
   "metadata": {},
   "source": [
    "-- Now perform mean of amount over partition by product and fill it in amount col where it has null data"
   ]
  },
  {
   "cell_type": "code",
   "execution_count": 16,
   "metadata": {},
   "outputs": [
    {
     "data": {
      "text/plain": [
       "0     1000.0\n",
       "1     1200.0\n",
       "2     1500.0\n",
       "3     2000.0\n",
       "4     2000.0\n",
       "5     1800.0\n",
       "6     1500.0\n",
       "7     2500.0\n",
       "8     1500.0\n",
       "9     1500.0\n",
       "10    3000.0\n",
       "11    2000.0\n",
       "Name: Amount, dtype: float64"
      ]
     },
     "execution_count": 16,
     "metadata": {},
     "output_type": "execute_result"
    }
   ],
   "source": [
    "df['Amount'] = df['Amount'].fillna(df.groupby('Product')['Amount'].transform('mean'))\n",
    "df.Amount"
   ]
  },
  {
   "cell_type": "markdown",
   "metadata": {},
   "source": [
    "- P1> Find which month had the highest sales"
   ]
  },
  {
   "cell_type": "code",
   "execution_count": 17,
   "metadata": {},
   "outputs": [
    {
     "data": {
      "text/html": [
       "<div>\n",
       "<style scoped>\n",
       "    .dataframe tbody tr th:only-of-type {\n",
       "        vertical-align: middle;\n",
       "    }\n",
       "\n",
       "    .dataframe tbody tr th {\n",
       "        vertical-align: top;\n",
       "    }\n",
       "\n",
       "    .dataframe thead th {\n",
       "        text-align: right;\n",
       "    }\n",
       "</style>\n",
       "<table border=\"1\" class=\"dataframe\">\n",
       "  <thead>\n",
       "    <tr style=\"text-align: right;\">\n",
       "      <th></th>\n",
       "      <th>Amount</th>\n",
       "    </tr>\n",
       "    <tr>\n",
       "      <th>Month</th>\n",
       "      <th></th>\n",
       "    </tr>\n",
       "  </thead>\n",
       "  <tbody>\n",
       "    <tr>\n",
       "      <th>6</th>\n",
       "      <td>5000.0</td>\n",
       "    </tr>\n",
       "  </tbody>\n",
       "</table>\n",
       "</div>"
      ],
      "text/plain": [
       "       Amount\n",
       "Month        \n",
       "6      5000.0"
      ]
     },
     "execution_count": 17,
     "metadata": {},
     "output_type": "execute_result"
    }
   ],
   "source": [
    "\n",
    "df_pvt=df.pivot_table(\n",
    "    index='Month',\n",
    "    values='Amount',\n",
    "    aggfunc='sum'\n",
    ").sort_values(by='Amount' , ascending=False)\n",
    "df_pvt.head(1)"
   ]
  },
  {
   "cell_type": "markdown",
   "metadata": {},
   "source": [
    "- P2> Plot region wise sales data showing the highest sales first\n"
   ]
  },
  {
   "cell_type": "markdown",
   "metadata": {},
   "source": [
    "-- check Region Column if it has anomalies"
   ]
  },
  {
   "cell_type": "code",
   "execution_count": 18,
   "metadata": {},
   "outputs": [
    {
     "data": {
      "text/plain": [
       "array(['North', 'East', 'South', 'West ', 'West'], dtype=object)"
      ]
     },
     "execution_count": 18,
     "metadata": {},
     "output_type": "execute_result"
    }
   ],
   "source": [
    "df.Region.unique()"
   ]
  },
  {
   "cell_type": "markdown",
   "metadata": {},
   "source": [
    "-- Remove extra space from West"
   ]
  },
  {
   "cell_type": "code",
   "execution_count": 19,
   "metadata": {},
   "outputs": [
    {
     "data": {
      "text/plain": [
       "array(['North', 'East', 'South', 'West'], dtype=object)"
      ]
     },
     "execution_count": 19,
     "metadata": {},
     "output_type": "execute_result"
    }
   ],
   "source": [
    "df['Region']=df.Region.replace({\n",
    "        'West ': 'West'\n",
    "    },\n",
    "    regex=True\n",
    ")\n",
    "df.Region.unique()"
   ]
  },
  {
   "cell_type": "markdown",
   "metadata": {},
   "source": [
    "- create a pivot table for region wise Sales data"
   ]
  },
  {
   "cell_type": "code",
   "execution_count": 20,
   "metadata": {},
   "outputs": [],
   "source": [
    "df_pvt=df.pivot_table(\n",
    "    index='Region',\n",
    "    values='Amount',\n",
    "    aggfunc='sum'\n",
    ").sort_values(by='Amount', ascending=False)"
   ]
  },
  {
   "cell_type": "markdown",
   "metadata": {},
   "source": [
    "- Plot the pivot table data and give label to the chart"
   ]
  },
  {
   "cell_type": "code",
   "execution_count": 21,
   "metadata": {},
   "outputs": [
    {
     "data": {
      "text/plain": [
       "<Axes: title={'center': 'Region Wise Sales'}, xlabel='Region'>"
      ]
     },
     "execution_count": 21,
     "metadata": {},
     "output_type": "execute_result"
    },
    {
     "data": {
      "image/png": "[encoded data removed]",
      "text/plain": [
       "<Figure size 640x480 with 1 Axes>"
      ]
     },
     "metadata": {},
     "output_type": "display_data"
    }
   ],
   "source": [
    "ax=df_pvt.plot(kind='bar', legend=True, title='Region Wise Sales')\n",
    "ax"
   ]
  },
  {
   "cell_type": "markdown",
   "metadata": {},
   "source": [
    "- P3> Plot month wise sales data. What is your inference from this plot?\n"
   ]
  },
  {
   "cell_type": "markdown",
   "metadata": {},
   "source": [
    "- Check if month has anomalies since it is required for grouping"
   ]
  },
  {
   "cell_type": "code",
   "execution_count": 23,
   "metadata": {},
   "outputs": [
    {
     "data": {
      "text/plain": [
       "array([1, 2, 3, 4, 5, 6], dtype=int32)"
      ]
     },
     "execution_count": 23,
     "metadata": {},
     "output_type": "execute_result"
    }
   ],
   "source": [
    "df.Month.unique()"
   ]
  },
  {
   "cell_type": "markdown",
   "metadata": {},
   "source": [
    "- calculate sum of amount over grouping the columns by Month"
   ]
  },
  {
   "cell_type": "code",
   "execution_count": 22,
   "metadata": {},
   "outputs": [
    {
     "data": {
      "text/plain": [
       "Month\n",
       "1    2200.0\n",
       "2    3500.0\n",
       "3    3800.0\n",
       "4    4000.0\n",
       "5    3000.0\n",
       "6    5000.0\n",
       "Name: Amount, dtype: float64"
      ]
     },
     "execution_count": 22,
     "metadata": {},
     "output_type": "execute_result"
    }
   ],
   "source": [
    "df_pvt=df.groupby('Month')['Amount'].sum()\n",
    "df_pvt"
   ]
  },
  {
   "cell_type": "markdown",
   "metadata": {},
   "source": [
    "- Plot the above calculated result"
   ]
  },
  {
   "cell_type": "code",
   "execution_count": 24,
   "metadata": {},
   "outputs": [
    {
     "data": {
      "text/plain": [
       "<Axes: title={'center': 'Month Wise Sales Data'}, xlabel='Month'>"
      ]
     },
     "execution_count": 24,
     "metadata": {},
     "output_type": "execute_result"
    },
    {
     "data": {
      "image/png": "[encoded data removed]",
      "text/plain": [
       "<Figure size 640x480 with 1 Axes>"
      ]
     },
     "metadata": {},
     "output_type": "display_data"
    }
   ],
   "source": [
    "df_pvt.plot(kind='line', legend=True, title='Month Wise Sales Data')"
   ]
  },
  {
   "cell_type": "markdown",
   "metadata": {},
   "source": [
    "# Inference from the Plot:\n",
    "General Trend: The sales data shows an increasing trend from month 1 to month 4, with sales gradually rising from 2200 to 4000. After month 4, there is a sharp dip in month 5 (down to 3000), but sales recover in month 6, peaking at 5000.\n",
    "\n",
    "Fluctuations: There is a noticeable fluctuation in month 5 where sales drop sharply. This could indicate a seasonal dip, a particular event, or an external factor affecting sales during that period.\n",
    "\n",
    "Month with Peak Sales: Month 6 has the highest sales, which could indicate a peak period, such as a seasonal spike, promotional period, or increased demand.\n",
    "\n",
    "Month with Lowest Sales: Month 1 has the lowest sales, which could suggest a slower start or lower demand in the initial period."
   ]
  }
 ],
 "metadata": {
  "kernelspec": {
   "display_name": "Python 3",
   "language": "python",
   "name": "python3"
  },
  "language_info": {
   "codemirror_mode": {
    "name": "ipython",
    "version": 3
   },
   "file_extension": ".py",
   "mimetype": "text/x-python",
   "name": "python",
   "nbconvert_exporter": "python",
   "pygments_lexer": "ipython3",
   "version": "3.10.12"
  }
 },
 "nbformat": 4,
 "nbformat_minor": 2
}
